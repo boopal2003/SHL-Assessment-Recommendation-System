{
  "nbformat": 4,
  "nbformat_minor": 0,
  "metadata": {
    "colab": {
      "provenance": []
    },
    "kernelspec": {
      "name": "python3",
      "display_name": "Python 3"
    },
    "language_info": {
      "name": "python"
    }
  },
  "cells": [
    {
      "cell_type": "code",
      "execution_count": 1,
      "metadata": {
        "colab": {
          "base_uri": "https://localhost:8080/"
        },
        "id": "57tRkq5r5rYF",
        "outputId": "9bd77696-4e2b-486c-a6cf-0685ecf7d085"
      },
      "outputs": [
        {
          "output_type": "stream",
          "name": "stdout",
          "text": [
            "200\n",
            "{'recommended_assessments': [{'url': 'https://www.shl.com/solutions/products/product-catalog/view/branch-manager-short-form/', 'adaptive_support': 'No', 'description': 'This solution is for mid to upper-level financial institution managerial positions. Candidates answer a series of multiple choice questions to measure management potential, management judgment, leadership potential, team management, branch manager problem solving, business leadership, leadership mot', 'duration': 50, 'remote_support': 'Yes', 'test_type': ['A', 'B', 'P']}, {'url': 'https://www.shl.com/solutions/products/product-catalog/view/branch-manager-short-form/', 'adaptive_support': 'No', 'description': 'This solution is for mid to upper-level financial institution managerial positions. Candidates answer a series of multiple choice questions to measure management potential, management judgment, leadership potential, team management, branch manager problem solving, business leadership, leadership mot', 'duration': 50, 'remote_support': 'Yes', 'test_type': ['A', 'B', 'P']}, {'url': 'https://www.shl.com/solutions/products/product-catalog/view/branch-manager-short-form/', 'adaptive_support': 'No', 'description': 'This solution is for mid to upper-level financial institution managerial positions. Candidates answer a series of multiple choice questions to measure management potential, management judgment, leadership potential, team management, branch manager problem solving, business leadership, leadership mot', 'duration': 50, 'remote_support': 'Yes', 'test_type': ['A', 'B', 'P']}, {'url': 'https://www.shl.com/solutions/products/product-catalog/view/branch-manager-short-form/', 'adaptive_support': 'No', 'description': 'This solution is for mid to upper-level financial institution managerial positions. Candidates answer a series of multiple choice questions to measure management potential, management judgment, leadership potential, team management, branch manager problem solving, business leadership, leadership mot', 'duration': 50, 'remote_support': 'Yes', 'test_type': ['A', 'B', 'P']}, {'url': 'https://www.shl.com/solutions/products/product-catalog/view/branch-manager-short-form/', 'adaptive_support': 'No', 'description': 'This solution is for mid to upper-level financial institution managerial positions. Candidates answer a series of multiple choice questions to measure management potential, management judgment, leadership potential, team management, branch manager problem solving, business leadership, leadership mot', 'duration': 50, 'remote_support': 'Yes', 'test_type': ['A', 'B', 'P']}, {'url': 'https://www.shl.com/solutions/products/product-catalog/view/branch-manager-short-form/', 'adaptive_support': 'No', 'description': 'This solution is for mid to upper-level financial institution managerial positions. Candidates answer a series of multiple choice questions to measure management potential, management judgment, leadership potential, team management, branch manager problem solving, business leadership, leadership mot', 'duration': 50, 'remote_support': 'Yes', 'test_type': ['A', 'B', 'P']}, {'url': 'https://www.shl.com/solutions/products/product-catalog/view/teller-7-0/', 'adaptive_support': 'Yes', 'description': 'Teller or cashier positions are integral to financial institutions as they conduct numerous banking transactions each day, as well as being the face of the bank to its customers. The Teller Solution contains scales that measure a person’s ability to handle money, prevent transactional errors, promot', 'duration': 35, 'remote_support': 'Yes', 'test_type': ['B', 'K', 'P', 'S']}, {'url': 'https://www.shl.com/solutions/products/product-catalog/view/teller-7-0/', 'adaptive_support': 'Yes', 'description': 'Teller or cashier positions are integral to financial institutions as they conduct numerous banking transactions each day, as well as being the face of the bank to its customers. The Teller Solution contains scales that measure a person’s ability to handle money, prevent transactional errors, promot', 'duration': 35, 'remote_support': 'Yes', 'test_type': ['B', 'K', 'P', 'S']}, {'url': 'https://www.shl.com/solutions/products/product-catalog/view/teller-7-0/', 'adaptive_support': 'Yes', 'description': 'Teller or cashier positions are integral to financial institutions as they conduct numerous banking transactions each day, as well as being the face of the bank to its customers. The Teller Solution contains scales that measure a person’s ability to handle money, prevent transactional errors, promot', 'duration': 35, 'remote_support': 'Yes', 'test_type': ['B', 'K', 'P', 'S']}, {'url': 'https://www.shl.com/solutions/products/product-catalog/view/bank-operations-supervisor-short-form/', 'adaptive_support': 'Yes', 'description': 'The Bank Operations Supervisor solution is for job candidates applying to entry-level leadership positions who tend to supervise hourly employees. Sample tasks for these jobs include, but are not limited to:  planning and preparing work schedules, assigning employees to specific duties; coaching  em', 'duration': 45, 'remote_support': 'Yes', 'test_type': ['A', 'B', 'P', 'S']}]}\n"
          ]
        }
      ],
      "source": [
        "import requests\n",
        "\n",
        "url = \"https://shl-assessment-engine-api.onrender.com/recommend\"\n",
        "\n",
        "response = requests.post(url, json={\n",
        "    \"query\": \"I'm hiring a branch manager with financial experience\"\n",
        "})\n",
        "\n",
        "print(response.status_code)\n",
        "print(response.json())\n"
      ]
    },
    {
      "cell_type": "code",
      "source": [],
      "metadata": {
        "id": "HVBiq5JL5tVy"
      },
      "execution_count": null,
      "outputs": []
    }
  ]
}