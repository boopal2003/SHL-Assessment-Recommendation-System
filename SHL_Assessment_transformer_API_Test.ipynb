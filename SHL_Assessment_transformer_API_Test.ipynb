{
  "nbformat": 4,
  "nbformat_minor": 0,
  "metadata": {
    "colab": {
      "provenance": []
    },
    "kernelspec": {
      "name": "python3",
      "display_name": "Python 3"
    },
    "language_info": {
      "name": "python"
    }
  },
  "cells": [
    {
      "cell_type": "code",
      "execution_count": 1,
      "metadata": {
        "colab": {
          "base_uri": "https://localhost:8080/"
        },
        "id": "uzRZYceE-Zft",
        "outputId": "72710caf-e9f9-41b0-9214-c38cb5074a09"
      },
      "outputs": [
        {
          "output_type": "stream",
          "name": "stdout",
          "text": [
            "{'recommendations': [{'Assessment Name': 'Bilingual Spanish Reservation Agent Solution', 'Link': 'https://www.shl.com/solutions/products/product-catalog/view/bilingual-spanish-reservation-agent-solution/', 'Description': 'The Bilingual Reservation Agent solution is designed for customer centered entry-level positions within the hospitality industry. Sample tasks may inc...'}, {'Assessment Name': 'Bilingual Spanish Reservation Agent Solution', 'Link': 'https://www.shl.com/solutions/products/product-catalog/view/bilingual-spanish-reservation-agent-solution/', 'Description': 'The Bilingual Reservation Agent solution is designed for customer centered entry-level positions within the hospitality industry. Sample tasks may inc...'}, {'Assessment Name': 'Bilingual Spanish Reservation Agent Solution', 'Link': 'https://www.shl.com/solutions/products/product-catalog/view/bilingual-spanish-reservation-agent-solution/', 'Description': 'The Bilingual Reservation Agent solution is designed for customer centered entry-level positions within the hospitality industry. Sample tasks may inc...'}, {'Assessment Name': 'Bilingual Spanish Reservation Agent Solution', 'Link': 'https://www.shl.com/solutions/products/product-catalog/view/bilingual-spanish-reservation-agent-solution/', 'Description': 'The Bilingual Reservation Agent solution is designed for customer centered entry-level positions within the hospitality industry. Sample tasks may inc...'}, {'Assessment Name': 'Bilingual Spanish Reservation Agent Solution', 'Link': 'https://www.shl.com/solutions/products/product-catalog/view/bilingual-spanish-reservation-agent-solution/', 'Description': 'The Bilingual Reservation Agent solution is designed for customer centered entry-level positions within the hospitality industry. Sample tasks may inc...'}]}\n"
          ]
        }
      ],
      "source": [
        "import requests\n",
        "\n",
        "url = \"https://assessment-engine-api.onrender.com/recommend\"\n",
        "\n",
        "res = requests.post(url, json={\n",
        "    \"query\": \"Looking for a Spanish-speaking customer support agent for inbound calls\",\n",
        "    \"top_k\": 5\n",
        "})\n",
        "\n",
        "print(res.json())\n"
      ]
    },
    {
      "cell_type": "code",
      "source": [],
      "metadata": {
        "id": "eTH90KoI-b5U"
      },
      "execution_count": null,
      "outputs": []
    }
  ]
}