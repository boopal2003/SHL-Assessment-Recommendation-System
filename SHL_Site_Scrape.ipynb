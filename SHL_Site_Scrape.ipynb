{
  "nbformat": 4,
  "nbformat_minor": 0,
  "metadata": {
    "colab": {
      "provenance": []
    },
    "kernelspec": {
      "name": "python3",
      "display_name": "Python 3"
    },
    "language_info": {
      "name": "python"
    }
  },
  "cells": [
    {
      "cell_type": "code",
      "execution_count": null,
      "metadata": {
        "colab": {
          "base_uri": "https://localhost:8080/"
        },
        "id": "YVeDWLwlGdHO",
        "outputId": "01dc8399-1ca2-4c28-b192-dee73d41b463"
      },
      "outputs": [
        {
          "output_type": "stream",
          "name": "stdout",
          "text": [
            "Collecting bs4\n",
            "  Downloading bs4-0.0.2-py2.py3-none-any.whl.metadata (411 bytes)\n",
            "Requirement already satisfied: beautifulsoup4 in /usr/local/lib/python3.11/dist-packages (from bs4) (4.13.3)\n",
            "Requirement already satisfied: soupsieve>1.2 in /usr/local/lib/python3.11/dist-packages (from beautifulsoup4->bs4) (2.6)\n",
            "Requirement already satisfied: typing-extensions>=4.0.0 in /usr/local/lib/python3.11/dist-packages (from beautifulsoup4->bs4) (4.13.0)\n",
            "Downloading bs4-0.0.2-py2.py3-none-any.whl (1.2 kB)\n",
            "Installing collected packages: bs4\n",
            "Successfully installed bs4-0.0.2\n"
          ]
        }
      ],
      "source": [
        "pip install bs4"
      ]
    },
    {
      "cell_type": "code",
      "source": [
        "pip install requests"
      ],
      "metadata": {
        "colab": {
          "base_uri": "https://localhost:8080/"
        },
        "id": "oaFc8Ul7GkMp",
        "outputId": "ccec0d21-d0c4-4734-9040-db63cdbf297c"
      },
      "execution_count": null,
      "outputs": [
        {
          "output_type": "stream",
          "name": "stdout",
          "text": [
            "Requirement already satisfied: requests in /usr/local/lib/python3.11/dist-packages (2.32.3)\n",
            "Requirement already satisfied: charset-normalizer<4,>=2 in /usr/local/lib/python3.11/dist-packages (from requests) (3.4.1)\n",
            "Requirement already satisfied: idna<4,>=2.5 in /usr/local/lib/python3.11/dist-packages (from requests) (3.10)\n",
            "Requirement already satisfied: urllib3<3,>=1.21.1 in /usr/local/lib/python3.11/dist-packages (from requests) (2.3.0)\n",
            "Requirement already satisfied: certifi>=2017.4.17 in /usr/local/lib/python3.11/dist-packages (from requests) (2025.1.31)\n"
          ]
        }
      ]
    },
    {
      "cell_type": "code",
      "source": [
        "from bs4 import BeautifulSoup\n",
        "import requests\n",
        "import pandas as pd"
      ],
      "metadata": {
        "id": "3mixiCMCGmkn"
      },
      "execution_count": null,
      "outputs": []
    },
    {
      "cell_type": "code",
      "source": [
        "base_url =  \"https://www.shl.com\""
      ],
      "metadata": {
        "id": "t1vKuxExGm5M"
      },
      "execution_count": null,
      "outputs": []
    },
    {
      "cell_type": "code",
      "source": [
        "url = \"https://www.shl.com/solutions/products/product-catalog/\""
      ],
      "metadata": {
        "id": "3PGCDU39GuTD"
      },
      "execution_count": null,
      "outputs": []
    },
    {
      "cell_type": "code",
      "source": [
        "header = ({'User-Agent':'Mozilla/5.0 (Windows NT 10.0; Win64; x64) AppleWebKit/537.36 (KHTML, like Gecko) Chrome/135.0.0.0 Safari/537.36','Accept-Language':'en-US, en;q=0.5'})"
      ],
      "metadata": {
        "id": "2-JwFqTzGxwe"
      },
      "execution_count": null,
      "outputs": []
    },
    {
      "cell_type": "code",
      "source": [
        "r = requests.get(url)\n",
        "soup = BeautifulSoup(r.content, 'lxml')"
      ],
      "metadata": {
        "id": "ALzKjXqaG2F5"
      },
      "execution_count": null,
      "outputs": []
    },
    {
      "cell_type": "code",
      "source": [
        "assessment_list = soup.find_all('td', class_='custom__table-heading__title')"
      ],
      "metadata": {
        "id": "WU31kMVQHjkP"
      },
      "execution_count": null,
      "outputs": []
    },
    {
      "cell_type": "code",
      "source": [
        "print(assessment_list)"
      ],
      "metadata": {
        "colab": {
          "base_uri": "https://localhost:8080/"
        },
        "id": "JRRFaj3bJMKM",
        "outputId": "bf21957a-25ad-4c1b-e512-97d06e287b7f"
      },
      "execution_count": null,
      "outputs": [
        {
          "output_type": "stream",
          "name": "stdout",
          "text": [
            "[<td class=\"custom__table-heading__title\">\n",
            "<a href=\"/solutions/products/product-catalog/view/account-manager-solution/\">Account Manager Solution </a>\n",
            "</td>, <td class=\"custom__table-heading__title\">\n",
            "<a href=\"/solutions/products/product-catalog/view/administrative-professional-short-form/\">Administrative Professional - Short Form</a>\n",
            "</td>, <td class=\"custom__table-heading__title\">\n",
            "<a href=\"/solutions/products/product-catalog/view/agency-manager-solution/\">Agency Manager Solution</a>\n",
            "</td>, <td class=\"custom__table-heading__title\">\n",
            "<a href=\"/solutions/products/product-catalog/view/apprentice-8-0-job-focused-assessment-4261/\">Apprentice + 8.0 Job Focused Assessment</a>\n",
            "</td>, <td class=\"custom__table-heading__title\">\n",
            "<a href=\"/solutions/products/product-catalog/view/apprentice-8-0-job-focused-assessment/\">Apprentice 8.0 Job Focused Assessment</a>\n",
            "</td>, <td class=\"custom__table-heading__title\">\n",
            "<a href=\"/solutions/products/product-catalog/view/bank-administrative-assistant-short-form/\">Bank Administrative Assistant - Short Form</a>\n",
            "</td>, <td class=\"custom__table-heading__title\">\n",
            "<a href=\"/solutions/products/product-catalog/view/bank-collections-agent-short-form/\">Bank Collections Agent - Short Form</a>\n",
            "</td>, <td class=\"custom__table-heading__title\">\n",
            "<a href=\"/solutions/products/product-catalog/view/bank-operations-supervisor-short-form/\">Bank Operations Supervisor - Short Form</a>\n",
            "</td>, <td class=\"custom__table-heading__title\">\n",
            "<a href=\"/solutions/products/product-catalog/view/bilingual-spanish-reservation-agent-solution/\">Bilingual Spanish Reservation Agent Solution</a>\n",
            "</td>, <td class=\"custom__table-heading__title\">\n",
            "<a href=\"/solutions/products/product-catalog/view/bookkeeping-accounting-auditing-clerk-short-form/\">Bookkeeping, Accounting, Auditing Clerk Short Form</a>\n",
            "</td>, <td class=\"custom__table-heading__title\">\n",
            "<a href=\"/solutions/products/product-catalog/view/branch-manager-short-form/\">Branch Manager - Short Form</a>\n",
            "</td>, <td class=\"custom__table-heading__title\">\n",
            "<a href=\"/solutions/products/product-catalog/view/cashier-solution/\">Cashier Solution</a>\n",
            "</td>, <td class=\"custom__table-heading__title\">\n",
            "<a href=\"/solutions/products/product-catalog/view/global-skills-development-report/\"> Global Skills Development Report </a>\n",
            "</td>, <td class=\"custom__table-heading__title\">\n",
            "<a href=\"/solutions/products/product-catalog/view/net-framework-4-5/\">.NET Framework 4.5</a>\n",
            "</td>, <td class=\"custom__table-heading__title\">\n",
            "<a href=\"/solutions/products/product-catalog/view/net-mvc-new/\">.NET MVC (New)</a>\n",
            "</td>, <td class=\"custom__table-heading__title\">\n",
            "<a href=\"/solutions/products/product-catalog/view/net-mvvm-new/\">.NET MVVM (New)</a>\n",
            "</td>, <td class=\"custom__table-heading__title\">\n",
            "<a href=\"/solutions/products/product-catalog/view/net-wcf-new/\">.NET WCF (New)</a>\n",
            "</td>, <td class=\"custom__table-heading__title\">\n",
            "<a href=\"/solutions/products/product-catalog/view/net-wpf-new/\">.NET WPF (New)</a>\n",
            "</td>, <td class=\"custom__table-heading__title\">\n",
            "<a href=\"/solutions/products/product-catalog/view/net-xaml-new/\">.NET XAML (New)</a>\n",
            "</td>, <td class=\"custom__table-heading__title\">\n",
            "<a href=\"/solutions/products/product-catalog/view/accounts-payable-new/\">Accounts Payable (New)</a>\n",
            "</td>, <td class=\"custom__table-heading__title\">\n",
            "<a href=\"/solutions/products/product-catalog/view/accounts-payable-simulation-new/\">Accounts Payable Simulation (New)</a>\n",
            "</td>, <td class=\"custom__table-heading__title\">\n",
            "<a href=\"/solutions/products/product-catalog/view/accounts-receivable-new/\">Accounts Receivable (New)</a>\n",
            "</td>, <td class=\"custom__table-heading__title\">\n",
            "<a href=\"/solutions/products/product-catalog/view/accounts-receivable-simulation-new/\">Accounts Receivable Simulation (New)</a>\n",
            "</td>, <td class=\"custom__table-heading__title\">\n",
            "<a href=\"/solutions/products/product-catalog/view/ado-net-new/\">ADO.NET (New)</a>\n",
            "</td>]\n"
          ]
        }
      ]
    },
    {
      "cell_type": "code",
      "source": [
        "assessment_links = []\n",
        "for assessment in assessment_list:\n",
        "    link = assessment.find('a')\n",
        "    href = link[\"href\"]\n",
        "    if href.startswith(\"/solutions/products/product-catalog/view/\"):\n",
        "        full_url = base_url + href\n",
        "        assessment_links.append(full_url)"
      ],
      "metadata": {
        "id": "cfgsi117JfzE"
      },
      "execution_count": null,
      "outputs": []
    },
    {
      "cell_type": "code",
      "source": [
        "for l in assessment_links:\n",
        "    print(l)"
      ],
      "metadata": {
        "colab": {
          "base_uri": "https://localhost:8080/"
        },
        "id": "hwO7Wfv9LPyc",
        "outputId": "f7012a42-7d14-4bd3-cacd-ad4ab3d3bae3"
      },
      "execution_count": null,
      "outputs": [
        {
          "output_type": "stream",
          "name": "stdout",
          "text": [
            "https://www.shl.com/solutions/products/product-catalog/view/account-manager-solution/\n",
            "https://www.shl.com/solutions/products/product-catalog/view/administrative-professional-short-form/\n",
            "https://www.shl.com/solutions/products/product-catalog/view/agency-manager-solution/\n",
            "https://www.shl.com/solutions/products/product-catalog/view/apprentice-8-0-job-focused-assessment-4261/\n",
            "https://www.shl.com/solutions/products/product-catalog/view/apprentice-8-0-job-focused-assessment/\n",
            "https://www.shl.com/solutions/products/product-catalog/view/bank-administrative-assistant-short-form/\n",
            "https://www.shl.com/solutions/products/product-catalog/view/bank-collections-agent-short-form/\n",
            "https://www.shl.com/solutions/products/product-catalog/view/bank-operations-supervisor-short-form/\n",
            "https://www.shl.com/solutions/products/product-catalog/view/bilingual-spanish-reservation-agent-solution/\n",
            "https://www.shl.com/solutions/products/product-catalog/view/bookkeeping-accounting-auditing-clerk-short-form/\n",
            "https://www.shl.com/solutions/products/product-catalog/view/branch-manager-short-form/\n",
            "https://www.shl.com/solutions/products/product-catalog/view/cashier-solution/\n",
            "https://www.shl.com/solutions/products/product-catalog/view/global-skills-development-report/\n",
            "https://www.shl.com/solutions/products/product-catalog/view/net-framework-4-5/\n",
            "https://www.shl.com/solutions/products/product-catalog/view/net-mvc-new/\n",
            "https://www.shl.com/solutions/products/product-catalog/view/net-mvvm-new/\n",
            "https://www.shl.com/solutions/products/product-catalog/view/net-wcf-new/\n",
            "https://www.shl.com/solutions/products/product-catalog/view/net-wpf-new/\n",
            "https://www.shl.com/solutions/products/product-catalog/view/net-xaml-new/\n",
            "https://www.shl.com/solutions/products/product-catalog/view/accounts-payable-new/\n",
            "https://www.shl.com/solutions/products/product-catalog/view/accounts-payable-simulation-new/\n",
            "https://www.shl.com/solutions/products/product-catalog/view/accounts-receivable-new/\n",
            "https://www.shl.com/solutions/products/product-catalog/view/accounts-receivable-simulation-new/\n",
            "https://www.shl.com/solutions/products/product-catalog/view/ado-net-new/\n"
          ]
        }
      ]
    },
    {
      "cell_type": "code",
      "source": [
        "assessment_links = []\n",
        "for x in range(0, 11):\n",
        "  r = requests.get(f\"https://www.shl.com/solutions/products/product-catalog/?start={x}2&type=2&type=2\")\n",
        "  soup = BeautifulSoup(r.content, 'lxml')\n",
        "  assessment_list = soup.find_all('td', class_='custom__table-heading__title')\n",
        "  for assessment in assessment_list:\n",
        "      link = assessment.find('a')\n",
        "      href = link[\"href\"]\n",
        "      if href.startswith(\"/solutions/products/product-catalog/view/\"):\n",
        "          full_url = base_url + href\n",
        "          assessment_links.append(full_url)"
      ],
      "metadata": {
        "id": "rPq7dnNALqnM"
      },
      "execution_count": null,
      "outputs": []
    },
    {
      "cell_type": "code",
      "source": [
        "print(assessment_links)"
      ],
      "metadata": {
        "colab": {
          "base_uri": "https://localhost:8080/"
        },
        "id": "mHG48xRwbPTi",
        "outputId": "b6be420f-abff-4519-b24b-6e31b8479316"
      },
      "execution_count": null,
      "outputs": [
        {
          "output_type": "stream",
          "name": "stdout",
          "text": [
            "['https://www.shl.com/solutions/products/product-catalog/view/agency-manager-solution/', 'https://www.shl.com/solutions/products/product-catalog/view/apprentice-8-0-job-focused-assessment-4261/', 'https://www.shl.com/solutions/products/product-catalog/view/apprentice-8-0-job-focused-assessment/', 'https://www.shl.com/solutions/products/product-catalog/view/bank-administrative-assistant-short-form/', 'https://www.shl.com/solutions/products/product-catalog/view/bank-collections-agent-short-form/', 'https://www.shl.com/solutions/products/product-catalog/view/bank-operations-supervisor-short-form/', 'https://www.shl.com/solutions/products/product-catalog/view/bilingual-spanish-reservation-agent-solution/', 'https://www.shl.com/solutions/products/product-catalog/view/bookkeeping-accounting-auditing-clerk-short-form/', 'https://www.shl.com/solutions/products/product-catalog/view/branch-manager-short-form/', 'https://www.shl.com/solutions/products/product-catalog/view/cashier-solution/', 'https://www.shl.com/solutions/products/product-catalog/view/claimsoperations-supervisor-solution/', 'https://www.shl.com/solutions/products/product-catalog/view/contact-center-customer-service-8-0/', 'https://www.shl.com/solutions/products/product-catalog/view/agency-manager-solution/', 'https://www.shl.com/solutions/products/product-catalog/view/apprentice-8-0-job-focused-assessment-4261/', 'https://www.shl.com/solutions/products/product-catalog/view/apprentice-8-0-job-focused-assessment/', 'https://www.shl.com/solutions/products/product-catalog/view/bank-administrative-assistant-short-form/', 'https://www.shl.com/solutions/products/product-catalog/view/bank-collections-agent-short-form/', 'https://www.shl.com/solutions/products/product-catalog/view/bank-operations-supervisor-short-form/', 'https://www.shl.com/solutions/products/product-catalog/view/bilingual-spanish-reservation-agent-solution/', 'https://www.shl.com/solutions/products/product-catalog/view/bookkeeping-accounting-auditing-clerk-short-form/', 'https://www.shl.com/solutions/products/product-catalog/view/branch-manager-short-form/', 'https://www.shl.com/solutions/products/product-catalog/view/cashier-solution/', 'https://www.shl.com/solutions/products/product-catalog/view/claimsoperations-supervisor-solution/', 'https://www.shl.com/solutions/products/product-catalog/view/contact-center-customer-service-8-0/', 'https://www.shl.com/solutions/products/product-catalog/view/agency-manager-solution/', 'https://www.shl.com/solutions/products/product-catalog/view/apprentice-8-0-job-focused-assessment-4261/', 'https://www.shl.com/solutions/products/product-catalog/view/apprentice-8-0-job-focused-assessment/', 'https://www.shl.com/solutions/products/product-catalog/view/bank-administrative-assistant-short-form/', 'https://www.shl.com/solutions/products/product-catalog/view/bank-collections-agent-short-form/', 'https://www.shl.com/solutions/products/product-catalog/view/bank-operations-supervisor-short-form/', 'https://www.shl.com/solutions/products/product-catalog/view/bilingual-spanish-reservation-agent-solution/', 'https://www.shl.com/solutions/products/product-catalog/view/bookkeeping-accounting-auditing-clerk-short-form/', 'https://www.shl.com/solutions/products/product-catalog/view/branch-manager-short-form/', 'https://www.shl.com/solutions/products/product-catalog/view/cashier-solution/', 'https://www.shl.com/solutions/products/product-catalog/view/claimsoperations-supervisor-solution/', 'https://www.shl.com/solutions/products/product-catalog/view/contact-center-customer-service-8-0/', 'https://www.shl.com/solutions/products/product-catalog/view/agency-manager-solution/', 'https://www.shl.com/solutions/products/product-catalog/view/apprentice-8-0-job-focused-assessment-4261/', 'https://www.shl.com/solutions/products/product-catalog/view/apprentice-8-0-job-focused-assessment/', 'https://www.shl.com/solutions/products/product-catalog/view/bank-administrative-assistant-short-form/', 'https://www.shl.com/solutions/products/product-catalog/view/bank-collections-agent-short-form/', 'https://www.shl.com/solutions/products/product-catalog/view/bank-operations-supervisor-short-form/', 'https://www.shl.com/solutions/products/product-catalog/view/bilingual-spanish-reservation-agent-solution/', 'https://www.shl.com/solutions/products/product-catalog/view/bookkeeping-accounting-auditing-clerk-short-form/', 'https://www.shl.com/solutions/products/product-catalog/view/branch-manager-short-form/', 'https://www.shl.com/solutions/products/product-catalog/view/cashier-solution/', 'https://www.shl.com/solutions/products/product-catalog/view/claimsoperations-supervisor-solution/', 'https://www.shl.com/solutions/products/product-catalog/view/contact-center-customer-service-8-0/', 'https://www.shl.com/solutions/products/product-catalog/view/general-entry-level-all-industries-7-1%28americas%29/', 'https://www.shl.com/solutions/products/product-catalog/view/general-entry-level-data-entry-7-0-solution/', 'https://www.shl.com/solutions/products/product-catalog/view/graduate-8-0-job-focused-assessment/', 'https://www.shl.com/solutions/products/product-catalog/view/graduate-7-1-job-focused-assessment/', 'https://www.shl.com/solutions/products/product-catalog/view/graduate-8-0-job-focused-assessment-4228/', 'https://www.shl.com/solutions/products/product-catalog/view/guest-service-team-7-0-solution/', 'https://www.shl.com/solutions/products/product-catalog/view/guest-services-associate-solution/', 'https://www.shl.com/solutions/products/product-catalog/view/healthcare-aide-7-0-solution/', 'https://www.shl.com/solutions/products/product-catalog/view/healthcare-call-center-agent-solution/', 'https://www.shl.com/solutions/products/product-catalog/view/healthcare-service-associate-solution/', 'https://www.shl.com/solutions/products/product-catalog/view/healthcare-support-specialist-solution/', 'https://www.shl.com/solutions/products/product-catalog/view/home-health-aide-solution/', 'https://www.shl.com/solutions/products/product-catalog/view/general-entry-level-all-industries-7-1%28americas%29/', 'https://www.shl.com/solutions/products/product-catalog/view/general-entry-level-data-entry-7-0-solution/', 'https://www.shl.com/solutions/products/product-catalog/view/graduate-8-0-job-focused-assessment/', 'https://www.shl.com/solutions/products/product-catalog/view/graduate-7-1-job-focused-assessment/', 'https://www.shl.com/solutions/products/product-catalog/view/graduate-8-0-job-focused-assessment-4228/', 'https://www.shl.com/solutions/products/product-catalog/view/guest-service-team-7-0-solution/', 'https://www.shl.com/solutions/products/product-catalog/view/guest-services-associate-solution/', 'https://www.shl.com/solutions/products/product-catalog/view/healthcare-aide-7-0-solution/', 'https://www.shl.com/solutions/products/product-catalog/view/healthcare-call-center-agent-solution/', 'https://www.shl.com/solutions/products/product-catalog/view/healthcare-service-associate-solution/', 'https://www.shl.com/solutions/products/product-catalog/view/healthcare-support-specialist-solution/', 'https://www.shl.com/solutions/products/product-catalog/view/home-health-aide-solution/', 'https://www.shl.com/solutions/products/product-catalog/view/general-entry-level-all-industries-7-1%28americas%29/', 'https://www.shl.com/solutions/products/product-catalog/view/general-entry-level-data-entry-7-0-solution/', 'https://www.shl.com/solutions/products/product-catalog/view/graduate-8-0-job-focused-assessment/', 'https://www.shl.com/solutions/products/product-catalog/view/graduate-7-1-job-focused-assessment/', 'https://www.shl.com/solutions/products/product-catalog/view/graduate-8-0-job-focused-assessment-4228/', 'https://www.shl.com/solutions/products/product-catalog/view/guest-service-team-7-0-solution/', 'https://www.shl.com/solutions/products/product-catalog/view/guest-services-associate-solution/', 'https://www.shl.com/solutions/products/product-catalog/view/healthcare-aide-7-0-solution/', 'https://www.shl.com/solutions/products/product-catalog/view/healthcare-call-center-agent-solution/', 'https://www.shl.com/solutions/products/product-catalog/view/healthcare-service-associate-solution/', 'https://www.shl.com/solutions/products/product-catalog/view/healthcare-support-specialist-solution/', 'https://www.shl.com/solutions/products/product-catalog/view/home-health-aide-solution/', 'https://www.shl.com/solutions/products/product-catalog/view/general-entry-level-all-industries-7-1%28americas%29/', 'https://www.shl.com/solutions/products/product-catalog/view/general-entry-level-data-entry-7-0-solution/', 'https://www.shl.com/solutions/products/product-catalog/view/graduate-8-0-job-focused-assessment/', 'https://www.shl.com/solutions/products/product-catalog/view/graduate-7-1-job-focused-assessment/', 'https://www.shl.com/solutions/products/product-catalog/view/graduate-8-0-job-focused-assessment-4228/', 'https://www.shl.com/solutions/products/product-catalog/view/guest-service-team-7-0-solution/', 'https://www.shl.com/solutions/products/product-catalog/view/guest-services-associate-solution/', 'https://www.shl.com/solutions/products/product-catalog/view/healthcare-aide-7-0-solution/', 'https://www.shl.com/solutions/products/product-catalog/view/healthcare-call-center-agent-solution/', 'https://www.shl.com/solutions/products/product-catalog/view/healthcare-service-associate-solution/', 'https://www.shl.com/solutions/products/product-catalog/view/healthcare-support-specialist-solution/', 'https://www.shl.com/solutions/products/product-catalog/view/home-health-aide-solution/', 'https://www.shl.com/solutions/products/product-catalog/view/nurse-leader-solution/', 'https://www.shl.com/solutions/products/product-catalog/view/nurse-solution/', 'https://www.shl.com/solutions/products/product-catalog/view/nursing-assistant-solution/', 'https://www.shl.com/solutions/products/product-catalog/view/personal-banker-short-form/', 'https://www.shl.com/solutions/products/product-catalog/view/phone-banker-short-form/', 'https://www.shl.com/solutions/products/product-catalog/view/prepline-cook-solution/', 'https://www.shl.com/solutions/products/product-catalog/view/professional-7-0-solution-3958/', 'https://www.shl.com/solutions/products/product-catalog/view/professional-7-1-%28americas%29/', 'https://www.shl.com/solutions/products/product-catalog/view/professional-7-1-solution/', 'https://www.shl.com/solutions/products/product-catalog/view/professional-7-0-solution/', 'https://www.shl.com/solutions/products/product-catalog/view/professional-7-1-solution-4247/', 'https://www.shl.com/solutions/products/product-catalog/view/professional-8-0-jfa/', 'https://www.shl.com/solutions/products/product-catalog/view/nurse-leader-solution/', 'https://www.shl.com/solutions/products/product-catalog/view/nurse-solution/', 'https://www.shl.com/solutions/products/product-catalog/view/nursing-assistant-solution/', 'https://www.shl.com/solutions/products/product-catalog/view/personal-banker-short-form/', 'https://www.shl.com/solutions/products/product-catalog/view/phone-banker-short-form/', 'https://www.shl.com/solutions/products/product-catalog/view/prepline-cook-solution/', 'https://www.shl.com/solutions/products/product-catalog/view/professional-7-0-solution-3958/', 'https://www.shl.com/solutions/products/product-catalog/view/professional-7-1-%28americas%29/', 'https://www.shl.com/solutions/products/product-catalog/view/professional-7-1-solution/', 'https://www.shl.com/solutions/products/product-catalog/view/professional-7-0-solution/', 'https://www.shl.com/solutions/products/product-catalog/view/professional-7-1-solution-4247/', 'https://www.shl.com/solutions/products/product-catalog/view/professional-8-0-jfa/', 'https://www.shl.com/solutions/products/product-catalog/view/nurse-leader-solution/', 'https://www.shl.com/solutions/products/product-catalog/view/nurse-solution/', 'https://www.shl.com/solutions/products/product-catalog/view/nursing-assistant-solution/', 'https://www.shl.com/solutions/products/product-catalog/view/personal-banker-short-form/', 'https://www.shl.com/solutions/products/product-catalog/view/phone-banker-short-form/', 'https://www.shl.com/solutions/products/product-catalog/view/prepline-cook-solution/', 'https://www.shl.com/solutions/products/product-catalog/view/professional-7-0-solution-3958/', 'https://www.shl.com/solutions/products/product-catalog/view/professional-7-1-%28americas%29/', 'https://www.shl.com/solutions/products/product-catalog/view/professional-7-1-solution/', 'https://www.shl.com/solutions/products/product-catalog/view/professional-7-0-solution/', 'https://www.shl.com/solutions/products/product-catalog/view/professional-7-1-solution-4247/', 'https://www.shl.com/solutions/products/product-catalog/view/professional-8-0-jfa/']\n"
          ]
        }
      ]
    },
    {
      "cell_type": "code",
      "source": [
        "assessment_data = []\n",
        "for x in range(0, 40):\n",
        "    url = f\"https://www.shl.com/solutions/products/product-catalog/?start={x}2&type=2&type=2\"\n",
        "    r = requests.get(url)\n",
        "    soup = BeautifulSoup(r.content, 'lxml')\n",
        "\n",
        "    rows = soup.find_all(\"tr\", attrs={\"data-course-id\": True})\n",
        "\n",
        "    for row in rows:\n",
        "        tds = row.find_all(\"td\")\n",
        "        if len(tds) >= 3:\n",
        "            link_tag = tds[0].find(\"a\")\n",
        "            if not link_tag:\n",
        "                continue\n",
        "\n",
        "            # Extract info\n",
        "            name = link_tag.text.strip()\n",
        "            relative_url = link_tag[\"href\"]\n",
        "            full_url = base_url + relative_url\n",
        "            clean_name = relative_url.rstrip(\"/\").split(\"/\")[-1].replace(\"-\", \" \").title()\n",
        "\n",
        "            # Remote Testing Support\n",
        "            remote_span = tds[1].find(\"span\")\n",
        "            remote_support = \"Yes\" if remote_span and \"-yes\" in remote_span.get(\"class\", []) else \"No\"\n",
        "\n",
        "            # Adaptive/IRT Support\n",
        "            irt_span = tds[2].find(\"span\")\n",
        "            irt_support = \"Yes\" if irt_span and \"-yes\" in irt_span.get(\"class\", []) else \"No\"\n",
        "\n",
        "            # Save\n",
        "            assessment_data.append({\n",
        "                \"Assessment Name\": name,\n",
        "                \"Clean Name\": clean_name,\n",
        "                \"Link\": full_url,\n",
        "                \"Remote Testing Support\": remote_support,\n",
        "                \"Adaptive/IRT Support\": irt_support\n",
        "            })"
      ],
      "metadata": {
        "id": "a4Gttf-wbs9q"
      },
      "execution_count": null,
      "outputs": []
    },
    {
      "cell_type": "code",
      "source": [
        "print(assessment_data)"
      ],
      "metadata": {
        "colab": {
          "base_uri": "https://localhost:8080/"
        },
        "id": "ts9y-W175xsJ",
        "outputId": "a5028b95-485f-4ef5-8bcc-cfbc9b99ba71"
      },
      "execution_count": null,
      "outputs": [
        {
          "output_type": "stream",
          "name": "stdout",
          "text": [
            "[{'Assessment Name': 'Agency Manager Solution', 'Clean Name': 'Agency Manager Solution', 'Link': 'https://www.shl.com/solutions/products/product-catalog/view/agency-manager-solution/', 'Remote Testing Support': 'Yes', 'Adaptive/IRT Support': 'Yes'}, {'Assessment Name': 'Apprentice + 8.0 Job Focused Assessment', 'Clean Name': 'Apprentice 8 0 Job Focused Assessment 4261', 'Link': 'https://www.shl.com/solutions/products/product-catalog/view/apprentice-8-0-job-focused-assessment-4261/', 'Remote Testing Support': 'Yes', 'Adaptive/IRT Support': 'No'}, {'Assessment Name': 'Apprentice 8.0 Job Focused Assessment', 'Clean Name': 'Apprentice 8 0 Job Focused Assessment', 'Link': 'https://www.shl.com/solutions/products/product-catalog/view/apprentice-8-0-job-focused-assessment/', 'Remote Testing Support': 'Yes', 'Adaptive/IRT Support': 'No'}, {'Assessment Name': 'Bank Administrative Assistant - Short Form', 'Clean Name': 'Bank Administrative Assistant Short Form', 'Link': 'https://www.shl.com/solutions/products/product-catalog/view/bank-administrative-assistant-short-form/', 'Remote Testing Support': 'Yes', 'Adaptive/IRT Support': 'No'}, {'Assessment Name': 'Bank Collections Agent - Short Form', 'Clean Name': 'Bank Collections Agent Short Form', 'Link': 'https://www.shl.com/solutions/products/product-catalog/view/bank-collections-agent-short-form/', 'Remote Testing Support': 'Yes', 'Adaptive/IRT Support': 'No'}, {'Assessment Name': 'Bank Operations Supervisor - Short Form', 'Clean Name': 'Bank Operations Supervisor Short Form', 'Link': 'https://www.shl.com/solutions/products/product-catalog/view/bank-operations-supervisor-short-form/', 'Remote Testing Support': 'Yes', 'Adaptive/IRT Support': 'Yes'}, {'Assessment Name': 'Bilingual Spanish Reservation Agent Solution', 'Clean Name': 'Bilingual Spanish Reservation Agent Solution', 'Link': 'https://www.shl.com/solutions/products/product-catalog/view/bilingual-spanish-reservation-agent-solution/', 'Remote Testing Support': 'Yes', 'Adaptive/IRT Support': 'Yes'}, {'Assessment Name': 'Bookkeeping, Accounting, Auditing Clerk Short Form', 'Clean Name': 'Bookkeeping Accounting Auditing Clerk Short Form', 'Link': 'https://www.shl.com/solutions/products/product-catalog/view/bookkeeping-accounting-auditing-clerk-short-form/', 'Remote Testing Support': 'Yes', 'Adaptive/IRT Support': 'Yes'}, {'Assessment Name': 'Branch Manager - Short Form', 'Clean Name': 'Branch Manager Short Form', 'Link': 'https://www.shl.com/solutions/products/product-catalog/view/branch-manager-short-form/', 'Remote Testing Support': 'Yes', 'Adaptive/IRT Support': 'No'}, {'Assessment Name': 'Cashier Solution', 'Clean Name': 'Cashier Solution', 'Link': 'https://www.shl.com/solutions/products/product-catalog/view/cashier-solution/', 'Remote Testing Support': 'Yes', 'Adaptive/IRT Support': 'Yes'}, {'Assessment Name': 'Claims/Operations Supervisor Solution', 'Clean Name': 'Claimsoperations Supervisor Solution', 'Link': 'https://www.shl.com/solutions/products/product-catalog/view/claimsoperations-supervisor-solution/', 'Remote Testing Support': 'Yes', 'Adaptive/IRT Support': 'Yes'}, {'Assessment Name': 'Contact Center Customer Service + 8.0', 'Clean Name': 'Contact Center Customer Service 8 0', 'Link': 'https://www.shl.com/solutions/products/product-catalog/view/contact-center-customer-service-8-0/', 'Remote Testing Support': 'Yes', 'Adaptive/IRT Support': 'No'}, {'Assessment Name': 'Agency Manager Solution', 'Clean Name': 'Agency Manager Solution', 'Link': 'https://www.shl.com/solutions/products/product-catalog/view/agency-manager-solution/', 'Remote Testing Support': 'Yes', 'Adaptive/IRT Support': 'Yes'}, {'Assessment Name': 'Apprentice + 8.0 Job Focused Assessment', 'Clean Name': 'Apprentice 8 0 Job Focused Assessment 4261', 'Link': 'https://www.shl.com/solutions/products/product-catalog/view/apprentice-8-0-job-focused-assessment-4261/', 'Remote Testing Support': 'Yes', 'Adaptive/IRT Support': 'No'}, {'Assessment Name': 'Apprentice 8.0 Job Focused Assessment', 'Clean Name': 'Apprentice 8 0 Job Focused Assessment', 'Link': 'https://www.shl.com/solutions/products/product-catalog/view/apprentice-8-0-job-focused-assessment/', 'Remote Testing Support': 'Yes', 'Adaptive/IRT Support': 'No'}, {'Assessment Name': 'Bank Administrative Assistant - Short Form', 'Clean Name': 'Bank Administrative Assistant Short Form', 'Link': 'https://www.shl.com/solutions/products/product-catalog/view/bank-administrative-assistant-short-form/', 'Remote Testing Support': 'Yes', 'Adaptive/IRT Support': 'No'}, {'Assessment Name': 'Bank Collections Agent - Short Form', 'Clean Name': 'Bank Collections Agent Short Form', 'Link': 'https://www.shl.com/solutions/products/product-catalog/view/bank-collections-agent-short-form/', 'Remote Testing Support': 'Yes', 'Adaptive/IRT Support': 'No'}, {'Assessment Name': 'Bank Operations Supervisor - Short Form', 'Clean Name': 'Bank Operations Supervisor Short Form', 'Link': 'https://www.shl.com/solutions/products/product-catalog/view/bank-operations-supervisor-short-form/', 'Remote Testing Support': 'Yes', 'Adaptive/IRT Support': 'Yes'}, {'Assessment Name': 'Bilingual Spanish Reservation Agent Solution', 'Clean Name': 'Bilingual Spanish Reservation Agent Solution', 'Link': 'https://www.shl.com/solutions/products/product-catalog/view/bilingual-spanish-reservation-agent-solution/', 'Remote Testing Support': 'Yes', 'Adaptive/IRT Support': 'Yes'}, {'Assessment Name': 'Bookkeeping, Accounting, Auditing Clerk Short Form', 'Clean Name': 'Bookkeeping Accounting Auditing Clerk Short Form', 'Link': 'https://www.shl.com/solutions/products/product-catalog/view/bookkeeping-accounting-auditing-clerk-short-form/', 'Remote Testing Support': 'Yes', 'Adaptive/IRT Support': 'Yes'}, {'Assessment Name': 'Branch Manager - Short Form', 'Clean Name': 'Branch Manager Short Form', 'Link': 'https://www.shl.com/solutions/products/product-catalog/view/branch-manager-short-form/', 'Remote Testing Support': 'Yes', 'Adaptive/IRT Support': 'No'}, {'Assessment Name': 'Cashier Solution', 'Clean Name': 'Cashier Solution', 'Link': 'https://www.shl.com/solutions/products/product-catalog/view/cashier-solution/', 'Remote Testing Support': 'Yes', 'Adaptive/IRT Support': 'Yes'}, {'Assessment Name': 'Claims/Operations Supervisor Solution', 'Clean Name': 'Claimsoperations Supervisor Solution', 'Link': 'https://www.shl.com/solutions/products/product-catalog/view/claimsoperations-supervisor-solution/', 'Remote Testing Support': 'Yes', 'Adaptive/IRT Support': 'Yes'}, {'Assessment Name': 'Contact Center Customer Service + 8.0', 'Clean Name': 'Contact Center Customer Service 8 0', 'Link': 'https://www.shl.com/solutions/products/product-catalog/view/contact-center-customer-service-8-0/', 'Remote Testing Support': 'Yes', 'Adaptive/IRT Support': 'No'}, {'Assessment Name': 'Agency Manager Solution', 'Clean Name': 'Agency Manager Solution', 'Link': 'https://www.shl.com/solutions/products/product-catalog/view/agency-manager-solution/', 'Remote Testing Support': 'Yes', 'Adaptive/IRT Support': 'Yes'}, {'Assessment Name': 'Apprentice + 8.0 Job Focused Assessment', 'Clean Name': 'Apprentice 8 0 Job Focused Assessment 4261', 'Link': 'https://www.shl.com/solutions/products/product-catalog/view/apprentice-8-0-job-focused-assessment-4261/', 'Remote Testing Support': 'Yes', 'Adaptive/IRT Support': 'No'}, {'Assessment Name': 'Apprentice 8.0 Job Focused Assessment', 'Clean Name': 'Apprentice 8 0 Job Focused Assessment', 'Link': 'https://www.shl.com/solutions/products/product-catalog/view/apprentice-8-0-job-focused-assessment/', 'Remote Testing Support': 'Yes', 'Adaptive/IRT Support': 'No'}, {'Assessment Name': 'Bank Administrative Assistant - Short Form', 'Clean Name': 'Bank Administrative Assistant Short Form', 'Link': 'https://www.shl.com/solutions/products/product-catalog/view/bank-administrative-assistant-short-form/', 'Remote Testing Support': 'Yes', 'Adaptive/IRT Support': 'No'}, {'Assessment Name': 'Bank Collections Agent - Short Form', 'Clean Name': 'Bank Collections Agent Short Form', 'Link': 'https://www.shl.com/solutions/products/product-catalog/view/bank-collections-agent-short-form/', 'Remote Testing Support': 'Yes', 'Adaptive/IRT Support': 'No'}, {'Assessment Name': 'Bank Operations Supervisor - Short Form', 'Clean Name': 'Bank Operations Supervisor Short Form', 'Link': 'https://www.shl.com/solutions/products/product-catalog/view/bank-operations-supervisor-short-form/', 'Remote Testing Support': 'Yes', 'Adaptive/IRT Support': 'Yes'}, {'Assessment Name': 'Bilingual Spanish Reservation Agent Solution', 'Clean Name': 'Bilingual Spanish Reservation Agent Solution', 'Link': 'https://www.shl.com/solutions/products/product-catalog/view/bilingual-spanish-reservation-agent-solution/', 'Remote Testing Support': 'Yes', 'Adaptive/IRT Support': 'Yes'}, {'Assessment Name': 'Bookkeeping, Accounting, Auditing Clerk Short Form', 'Clean Name': 'Bookkeeping Accounting Auditing Clerk Short Form', 'Link': 'https://www.shl.com/solutions/products/product-catalog/view/bookkeeping-accounting-auditing-clerk-short-form/', 'Remote Testing Support': 'Yes', 'Adaptive/IRT Support': 'Yes'}, {'Assessment Name': 'Branch Manager - Short Form', 'Clean Name': 'Branch Manager Short Form', 'Link': 'https://www.shl.com/solutions/products/product-catalog/view/branch-manager-short-form/', 'Remote Testing Support': 'Yes', 'Adaptive/IRT Support': 'No'}, {'Assessment Name': 'Cashier Solution', 'Clean Name': 'Cashier Solution', 'Link': 'https://www.shl.com/solutions/products/product-catalog/view/cashier-solution/', 'Remote Testing Support': 'Yes', 'Adaptive/IRT Support': 'Yes'}, {'Assessment Name': 'Claims/Operations Supervisor Solution', 'Clean Name': 'Claimsoperations Supervisor Solution', 'Link': 'https://www.shl.com/solutions/products/product-catalog/view/claimsoperations-supervisor-solution/', 'Remote Testing Support': 'Yes', 'Adaptive/IRT Support': 'Yes'}, {'Assessment Name': 'Contact Center Customer Service + 8.0', 'Clean Name': 'Contact Center Customer Service 8 0', 'Link': 'https://www.shl.com/solutions/products/product-catalog/view/contact-center-customer-service-8-0/', 'Remote Testing Support': 'Yes', 'Adaptive/IRT Support': 'No'}, {'Assessment Name': 'Agency Manager Solution', 'Clean Name': 'Agency Manager Solution', 'Link': 'https://www.shl.com/solutions/products/product-catalog/view/agency-manager-solution/', 'Remote Testing Support': 'Yes', 'Adaptive/IRT Support': 'Yes'}, {'Assessment Name': 'Apprentice + 8.0 Job Focused Assessment', 'Clean Name': 'Apprentice 8 0 Job Focused Assessment 4261', 'Link': 'https://www.shl.com/solutions/products/product-catalog/view/apprentice-8-0-job-focused-assessment-4261/', 'Remote Testing Support': 'Yes', 'Adaptive/IRT Support': 'No'}, {'Assessment Name': 'Apprentice 8.0 Job Focused Assessment', 'Clean Name': 'Apprentice 8 0 Job Focused Assessment', 'Link': 'https://www.shl.com/solutions/products/product-catalog/view/apprentice-8-0-job-focused-assessment/', 'Remote Testing Support': 'Yes', 'Adaptive/IRT Support': 'No'}, {'Assessment Name': 'Bank Administrative Assistant - Short Form', 'Clean Name': 'Bank Administrative Assistant Short Form', 'Link': 'https://www.shl.com/solutions/products/product-catalog/view/bank-administrative-assistant-short-form/', 'Remote Testing Support': 'Yes', 'Adaptive/IRT Support': 'No'}, {'Assessment Name': 'Bank Collections Agent - Short Form', 'Clean Name': 'Bank Collections Agent Short Form', 'Link': 'https://www.shl.com/solutions/products/product-catalog/view/bank-collections-agent-short-form/', 'Remote Testing Support': 'Yes', 'Adaptive/IRT Support': 'No'}, {'Assessment Name': 'Bank Operations Supervisor - Short Form', 'Clean Name': 'Bank Operations Supervisor Short Form', 'Link': 'https://www.shl.com/solutions/products/product-catalog/view/bank-operations-supervisor-short-form/', 'Remote Testing Support': 'Yes', 'Adaptive/IRT Support': 'Yes'}, {'Assessment Name': 'Bilingual Spanish Reservation Agent Solution', 'Clean Name': 'Bilingual Spanish Reservation Agent Solution', 'Link': 'https://www.shl.com/solutions/products/product-catalog/view/bilingual-spanish-reservation-agent-solution/', 'Remote Testing Support': 'Yes', 'Adaptive/IRT Support': 'Yes'}, {'Assessment Name': 'Bookkeeping, Accounting, Auditing Clerk Short Form', 'Clean Name': 'Bookkeeping Accounting Auditing Clerk Short Form', 'Link': 'https://www.shl.com/solutions/products/product-catalog/view/bookkeeping-accounting-auditing-clerk-short-form/', 'Remote Testing Support': 'Yes', 'Adaptive/IRT Support': 'Yes'}, {'Assessment Name': 'Branch Manager - Short Form', 'Clean Name': 'Branch Manager Short Form', 'Link': 'https://www.shl.com/solutions/products/product-catalog/view/branch-manager-short-form/', 'Remote Testing Support': 'Yes', 'Adaptive/IRT Support': 'No'}, {'Assessment Name': 'Cashier Solution', 'Clean Name': 'Cashier Solution', 'Link': 'https://www.shl.com/solutions/products/product-catalog/view/cashier-solution/', 'Remote Testing Support': 'Yes', 'Adaptive/IRT Support': 'Yes'}, {'Assessment Name': 'Claims/Operations Supervisor Solution', 'Clean Name': 'Claimsoperations Supervisor Solution', 'Link': 'https://www.shl.com/solutions/products/product-catalog/view/claimsoperations-supervisor-solution/', 'Remote Testing Support': 'Yes', 'Adaptive/IRT Support': 'Yes'}, {'Assessment Name': 'Contact Center Customer Service + 8.0', 'Clean Name': 'Contact Center Customer Service 8 0', 'Link': 'https://www.shl.com/solutions/products/product-catalog/view/contact-center-customer-service-8-0/', 'Remote Testing Support': 'Yes', 'Adaptive/IRT Support': 'No'}, {'Assessment Name': 'Agency Manager Solution', 'Clean Name': 'Agency Manager Solution', 'Link': 'https://www.shl.com/solutions/products/product-catalog/view/agency-manager-solution/', 'Remote Testing Support': 'Yes', 'Adaptive/IRT Support': 'Yes'}, {'Assessment Name': 'Apprentice + 8.0 Job Focused Assessment', 'Clean Name': 'Apprentice 8 0 Job Focused Assessment 4261', 'Link': 'https://www.shl.com/solutions/products/product-catalog/view/apprentice-8-0-job-focused-assessment-4261/', 'Remote Testing Support': 'Yes', 'Adaptive/IRT Support': 'No'}, {'Assessment Name': 'Apprentice 8.0 Job Focused Assessment', 'Clean Name': 'Apprentice 8 0 Job Focused Assessment', 'Link': 'https://www.shl.com/solutions/products/product-catalog/view/apprentice-8-0-job-focused-assessment/', 'Remote Testing Support': 'Yes', 'Adaptive/IRT Support': 'No'}, {'Assessment Name': 'Bank Administrative Assistant - Short Form', 'Clean Name': 'Bank Administrative Assistant Short Form', 'Link': 'https://www.shl.com/solutions/products/product-catalog/view/bank-administrative-assistant-short-form/', 'Remote Testing Support': 'Yes', 'Adaptive/IRT Support': 'No'}, {'Assessment Name': 'Bank Collections Agent - Short Form', 'Clean Name': 'Bank Collections Agent Short Form', 'Link': 'https://www.shl.com/solutions/products/product-catalog/view/bank-collections-agent-short-form/', 'Remote Testing Support': 'Yes', 'Adaptive/IRT Support': 'No'}, {'Assessment Name': 'Bank Operations Supervisor - Short Form', 'Clean Name': 'Bank Operations Supervisor Short Form', 'Link': 'https://www.shl.com/solutions/products/product-catalog/view/bank-operations-supervisor-short-form/', 'Remote Testing Support': 'Yes', 'Adaptive/IRT Support': 'Yes'}, {'Assessment Name': 'Bilingual Spanish Reservation Agent Solution', 'Clean Name': 'Bilingual Spanish Reservation Agent Solution', 'Link': 'https://www.shl.com/solutions/products/product-catalog/view/bilingual-spanish-reservation-agent-solution/', 'Remote Testing Support': 'Yes', 'Adaptive/IRT Support': 'Yes'}, {'Assessment Name': 'Bookkeeping, Accounting, Auditing Clerk Short Form', 'Clean Name': 'Bookkeeping Accounting Auditing Clerk Short Form', 'Link': 'https://www.shl.com/solutions/products/product-catalog/view/bookkeeping-accounting-auditing-clerk-short-form/', 'Remote Testing Support': 'Yes', 'Adaptive/IRT Support': 'Yes'}, {'Assessment Name': 'Branch Manager - Short Form', 'Clean Name': 'Branch Manager Short Form', 'Link': 'https://www.shl.com/solutions/products/product-catalog/view/branch-manager-short-form/', 'Remote Testing Support': 'Yes', 'Adaptive/IRT Support': 'No'}, {'Assessment Name': 'Cashier Solution', 'Clean Name': 'Cashier Solution', 'Link': 'https://www.shl.com/solutions/products/product-catalog/view/cashier-solution/', 'Remote Testing Support': 'Yes', 'Adaptive/IRT Support': 'Yes'}, {'Assessment Name': 'Claims/Operations Supervisor Solution', 'Clean Name': 'Claimsoperations Supervisor Solution', 'Link': 'https://www.shl.com/solutions/products/product-catalog/view/claimsoperations-supervisor-solution/', 'Remote Testing Support': 'Yes', 'Adaptive/IRT Support': 'Yes'}, {'Assessment Name': 'Contact Center Customer Service + 8.0', 'Clean Name': 'Contact Center Customer Service 8 0', 'Link': 'https://www.shl.com/solutions/products/product-catalog/view/contact-center-customer-service-8-0/', 'Remote Testing Support': 'Yes', 'Adaptive/IRT Support': 'No'}, {'Assessment Name': 'Healthcare Support Specialist Solution', 'Clean Name': 'Healthcare Support Specialist Solution', 'Link': 'https://www.shl.com/solutions/products/product-catalog/view/healthcare-support-specialist-solution/', 'Remote Testing Support': 'Yes', 'Adaptive/IRT Support': 'Yes'}, {'Assessment Name': 'Home Health Aide Solution', 'Clean Name': 'Home Health Aide Solution', 'Link': 'https://www.shl.com/solutions/products/product-catalog/view/home-health-aide-solution/', 'Remote Testing Support': 'Yes', 'Adaptive/IRT Support': 'Yes'}, {'Assessment Name': 'Hospitality Manager Solution', 'Clean Name': 'Hospitality Manager Solution', 'Link': 'https://www.shl.com/solutions/products/product-catalog/view/hospitality-manager-solution/', 'Remote Testing Support': 'Yes', 'Adaptive/IRT Support': 'Yes'}, {'Assessment Name': 'Host Solution', 'Clean Name': 'Host Solution', 'Link': 'https://www.shl.com/solutions/products/product-catalog/view/host-solution/', 'Remote Testing Support': 'Yes', 'Adaptive/IRT Support': 'Yes'}, {'Assessment Name': 'Industrial - Entry Level 7.0 Solution', 'Clean Name': 'Industrial Entry Level 7 0 Solution', 'Link': 'https://www.shl.com/solutions/products/product-catalog/view/industrial-entry-level-7-0-solution/', 'Remote Testing Support': 'Yes', 'Adaptive/IRT Support': 'No'}, {'Assessment Name': 'Industrial - Entry Level 7.1 (Americas)', 'Clean Name': 'Industrial Entry Level 7 1 %28Americas%29', 'Link': 'https://www.shl.com/solutions/products/product-catalog/view/industrial-entry-level-7-1-%28americas%29/', 'Remote Testing Support': 'Yes', 'Adaptive/IRT Support': 'No'}, {'Assessment Name': 'Industrial - Entry Level 7.1 (International)', 'Clean Name': 'Industrial Entry Level 7 1 %28International%29', 'Link': 'https://www.shl.com/solutions/products/product-catalog/view/industrial-entry-level-7-1-%28international%29/', 'Remote Testing Support': 'Yes', 'Adaptive/IRT Support': 'No'}, {'Assessment Name': 'Industrial - Professional and Skilled 7.0 Solution', 'Clean Name': 'Industrial Professional And Skilled 7 0 Solution', 'Link': 'https://www.shl.com/solutions/products/product-catalog/view/industrial-professional-and-skilled-7-0-solution/', 'Remote Testing Support': 'Yes', 'Adaptive/IRT Support': 'Yes'}, {'Assessment Name': 'Industrial - Semi-skilled 7.1 (Americas)', 'Clean Name': 'Industrial Semi Skilled 7 1 %28Americas%29', 'Link': 'https://www.shl.com/solutions/products/product-catalog/view/industrial-semi-skilled-7-1-%28americas%29/', 'Remote Testing Support': 'Yes', 'Adaptive/IRT Support': 'No'}, {'Assessment Name': 'Industrial - Semi-skilled 7.1 (International)', 'Clean Name': 'Industrial Semi Skilled 7 1 %28International%29', 'Link': 'https://www.shl.com/solutions/products/product-catalog/view/industrial-semi-skilled-7-1-%28international%29/', 'Remote Testing Support': 'Yes', 'Adaptive/IRT Support': 'No'}, {'Assessment Name': 'Industrial Professional and Skilled 7.1 (Americas)', 'Clean Name': 'Industrial Professional And Skilled 7 1 %28Americas%29', 'Link': 'https://www.shl.com/solutions/products/product-catalog/view/industrial-professional-and-skilled-7-1-%28americas%29/', 'Remote Testing Support': 'Yes', 'Adaptive/IRT Support': 'No'}, {'Assessment Name': 'Industrial Professional and Skilled 7.1 Solution', 'Clean Name': 'Industrial Professional And Skilled 7 1 Solution', 'Link': 'https://www.shl.com/solutions/products/product-catalog/view/industrial-professional-and-skilled-7-1-solution/', 'Remote Testing Support': 'Yes', 'Adaptive/IRT Support': 'No'}, {'Assessment Name': 'Healthcare Support Specialist Solution', 'Clean Name': 'Healthcare Support Specialist Solution', 'Link': 'https://www.shl.com/solutions/products/product-catalog/view/healthcare-support-specialist-solution/', 'Remote Testing Support': 'Yes', 'Adaptive/IRT Support': 'Yes'}, {'Assessment Name': 'Home Health Aide Solution', 'Clean Name': 'Home Health Aide Solution', 'Link': 'https://www.shl.com/solutions/products/product-catalog/view/home-health-aide-solution/', 'Remote Testing Support': 'Yes', 'Adaptive/IRT Support': 'Yes'}, {'Assessment Name': 'Hospitality Manager Solution', 'Clean Name': 'Hospitality Manager Solution', 'Link': 'https://www.shl.com/solutions/products/product-catalog/view/hospitality-manager-solution/', 'Remote Testing Support': 'Yes', 'Adaptive/IRT Support': 'Yes'}, {'Assessment Name': 'Host Solution', 'Clean Name': 'Host Solution', 'Link': 'https://www.shl.com/solutions/products/product-catalog/view/host-solution/', 'Remote Testing Support': 'Yes', 'Adaptive/IRT Support': 'Yes'}, {'Assessment Name': 'Industrial - Entry Level 7.0 Solution', 'Clean Name': 'Industrial Entry Level 7 0 Solution', 'Link': 'https://www.shl.com/solutions/products/product-catalog/view/industrial-entry-level-7-0-solution/', 'Remote Testing Support': 'Yes', 'Adaptive/IRT Support': 'No'}, {'Assessment Name': 'Industrial - Entry Level 7.1 (Americas)', 'Clean Name': 'Industrial Entry Level 7 1 %28Americas%29', 'Link': 'https://www.shl.com/solutions/products/product-catalog/view/industrial-entry-level-7-1-%28americas%29/', 'Remote Testing Support': 'Yes', 'Adaptive/IRT Support': 'No'}, {'Assessment Name': 'Industrial - Entry Level 7.1 (International)', 'Clean Name': 'Industrial Entry Level 7 1 %28International%29', 'Link': 'https://www.shl.com/solutions/products/product-catalog/view/industrial-entry-level-7-1-%28international%29/', 'Remote Testing Support': 'Yes', 'Adaptive/IRT Support': 'No'}, {'Assessment Name': 'Industrial - Professional and Skilled 7.0 Solution', 'Clean Name': 'Industrial Professional And Skilled 7 0 Solution', 'Link': 'https://www.shl.com/solutions/products/product-catalog/view/industrial-professional-and-skilled-7-0-solution/', 'Remote Testing Support': 'Yes', 'Adaptive/IRT Support': 'Yes'}, {'Assessment Name': 'Industrial - Semi-skilled 7.1 (Americas)', 'Clean Name': 'Industrial Semi Skilled 7 1 %28Americas%29', 'Link': 'https://www.shl.com/solutions/products/product-catalog/view/industrial-semi-skilled-7-1-%28americas%29/', 'Remote Testing Support': 'Yes', 'Adaptive/IRT Support': 'No'}, {'Assessment Name': 'Industrial - Semi-skilled 7.1 (International)', 'Clean Name': 'Industrial Semi Skilled 7 1 %28International%29', 'Link': 'https://www.shl.com/solutions/products/product-catalog/view/industrial-semi-skilled-7-1-%28international%29/', 'Remote Testing Support': 'Yes', 'Adaptive/IRT Support': 'No'}, {'Assessment Name': 'Industrial Professional and Skilled 7.1 (Americas)', 'Clean Name': 'Industrial Professional And Skilled 7 1 %28Americas%29', 'Link': 'https://www.shl.com/solutions/products/product-catalog/view/industrial-professional-and-skilled-7-1-%28americas%29/', 'Remote Testing Support': 'Yes', 'Adaptive/IRT Support': 'No'}, {'Assessment Name': 'Industrial Professional and Skilled 7.1 Solution', 'Clean Name': 'Industrial Professional And Skilled 7 1 Solution', 'Link': 'https://www.shl.com/solutions/products/product-catalog/view/industrial-professional-and-skilled-7-1-solution/', 'Remote Testing Support': 'Yes', 'Adaptive/IRT Support': 'No'}, {'Assessment Name': 'Healthcare Support Specialist Solution', 'Clean Name': 'Healthcare Support Specialist Solution', 'Link': 'https://www.shl.com/solutions/products/product-catalog/view/healthcare-support-specialist-solution/', 'Remote Testing Support': 'Yes', 'Adaptive/IRT Support': 'Yes'}, {'Assessment Name': 'Home Health Aide Solution', 'Clean Name': 'Home Health Aide Solution', 'Link': 'https://www.shl.com/solutions/products/product-catalog/view/home-health-aide-solution/', 'Remote Testing Support': 'Yes', 'Adaptive/IRT Support': 'Yes'}, {'Assessment Name': 'Hospitality Manager Solution', 'Clean Name': 'Hospitality Manager Solution', 'Link': 'https://www.shl.com/solutions/products/product-catalog/view/hospitality-manager-solution/', 'Remote Testing Support': 'Yes', 'Adaptive/IRT Support': 'Yes'}, {'Assessment Name': 'Host Solution', 'Clean Name': 'Host Solution', 'Link': 'https://www.shl.com/solutions/products/product-catalog/view/host-solution/', 'Remote Testing Support': 'Yes', 'Adaptive/IRT Support': 'Yes'}, {'Assessment Name': 'Industrial - Entry Level 7.0 Solution', 'Clean Name': 'Industrial Entry Level 7 0 Solution', 'Link': 'https://www.shl.com/solutions/products/product-catalog/view/industrial-entry-level-7-0-solution/', 'Remote Testing Support': 'Yes', 'Adaptive/IRT Support': 'No'}, {'Assessment Name': 'Industrial - Entry Level 7.1 (Americas)', 'Clean Name': 'Industrial Entry Level 7 1 %28Americas%29', 'Link': 'https://www.shl.com/solutions/products/product-catalog/view/industrial-entry-level-7-1-%28americas%29/', 'Remote Testing Support': 'Yes', 'Adaptive/IRT Support': 'No'}, {'Assessment Name': 'Industrial - Entry Level 7.1 (International)', 'Clean Name': 'Industrial Entry Level 7 1 %28International%29', 'Link': 'https://www.shl.com/solutions/products/product-catalog/view/industrial-entry-level-7-1-%28international%29/', 'Remote Testing Support': 'Yes', 'Adaptive/IRT Support': 'No'}, {'Assessment Name': 'Industrial - Professional and Skilled 7.0 Solution', 'Clean Name': 'Industrial Professional And Skilled 7 0 Solution', 'Link': 'https://www.shl.com/solutions/products/product-catalog/view/industrial-professional-and-skilled-7-0-solution/', 'Remote Testing Support': 'Yes', 'Adaptive/IRT Support': 'Yes'}, {'Assessment Name': 'Industrial - Semi-skilled 7.1 (Americas)', 'Clean Name': 'Industrial Semi Skilled 7 1 %28Americas%29', 'Link': 'https://www.shl.com/solutions/products/product-catalog/view/industrial-semi-skilled-7-1-%28americas%29/', 'Remote Testing Support': 'Yes', 'Adaptive/IRT Support': 'No'}, {'Assessment Name': 'Industrial - Semi-skilled 7.1 (International)', 'Clean Name': 'Industrial Semi Skilled 7 1 %28International%29', 'Link': 'https://www.shl.com/solutions/products/product-catalog/view/industrial-semi-skilled-7-1-%28international%29/', 'Remote Testing Support': 'Yes', 'Adaptive/IRT Support': 'No'}, {'Assessment Name': 'Industrial Professional and Skilled 7.1 (Americas)', 'Clean Name': 'Industrial Professional And Skilled 7 1 %28Americas%29', 'Link': 'https://www.shl.com/solutions/products/product-catalog/view/industrial-professional-and-skilled-7-1-%28americas%29/', 'Remote Testing Support': 'Yes', 'Adaptive/IRT Support': 'No'}, {'Assessment Name': 'Industrial Professional and Skilled 7.1 Solution', 'Clean Name': 'Industrial Professional And Skilled 7 1 Solution', 'Link': 'https://www.shl.com/solutions/products/product-catalog/view/industrial-professional-and-skilled-7-1-solution/', 'Remote Testing Support': 'Yes', 'Adaptive/IRT Support': 'No'}, {'Assessment Name': 'Healthcare Support Specialist Solution', 'Clean Name': 'Healthcare Support Specialist Solution', 'Link': 'https://www.shl.com/solutions/products/product-catalog/view/healthcare-support-specialist-solution/', 'Remote Testing Support': 'Yes', 'Adaptive/IRT Support': 'Yes'}, {'Assessment Name': 'Home Health Aide Solution', 'Clean Name': 'Home Health Aide Solution', 'Link': 'https://www.shl.com/solutions/products/product-catalog/view/home-health-aide-solution/', 'Remote Testing Support': 'Yes', 'Adaptive/IRT Support': 'Yes'}, {'Assessment Name': 'Hospitality Manager Solution', 'Clean Name': 'Hospitality Manager Solution', 'Link': 'https://www.shl.com/solutions/products/product-catalog/view/hospitality-manager-solution/', 'Remote Testing Support': 'Yes', 'Adaptive/IRT Support': 'Yes'}, {'Assessment Name': 'Host Solution', 'Clean Name': 'Host Solution', 'Link': 'https://www.shl.com/solutions/products/product-catalog/view/host-solution/', 'Remote Testing Support': 'Yes', 'Adaptive/IRT Support': 'Yes'}, {'Assessment Name': 'Industrial - Entry Level 7.0 Solution', 'Clean Name': 'Industrial Entry Level 7 0 Solution', 'Link': 'https://www.shl.com/solutions/products/product-catalog/view/industrial-entry-level-7-0-solution/', 'Remote Testing Support': 'Yes', 'Adaptive/IRT Support': 'No'}, {'Assessment Name': 'Industrial - Entry Level 7.1 (Americas)', 'Clean Name': 'Industrial Entry Level 7 1 %28Americas%29', 'Link': 'https://www.shl.com/solutions/products/product-catalog/view/industrial-entry-level-7-1-%28americas%29/', 'Remote Testing Support': 'Yes', 'Adaptive/IRT Support': 'No'}, {'Assessment Name': 'Industrial - Entry Level 7.1 (International)', 'Clean Name': 'Industrial Entry Level 7 1 %28International%29', 'Link': 'https://www.shl.com/solutions/products/product-catalog/view/industrial-entry-level-7-1-%28international%29/', 'Remote Testing Support': 'Yes', 'Adaptive/IRT Support': 'No'}, {'Assessment Name': 'Industrial - Professional and Skilled 7.0 Solution', 'Clean Name': 'Industrial Professional And Skilled 7 0 Solution', 'Link': 'https://www.shl.com/solutions/products/product-catalog/view/industrial-professional-and-skilled-7-0-solution/', 'Remote Testing Support': 'Yes', 'Adaptive/IRT Support': 'Yes'}, {'Assessment Name': 'Industrial - Semi-skilled 7.1 (Americas)', 'Clean Name': 'Industrial Semi Skilled 7 1 %28Americas%29', 'Link': 'https://www.shl.com/solutions/products/product-catalog/view/industrial-semi-skilled-7-1-%28americas%29/', 'Remote Testing Support': 'Yes', 'Adaptive/IRT Support': 'No'}, {'Assessment Name': 'Industrial - Semi-skilled 7.1 (International)', 'Clean Name': 'Industrial Semi Skilled 7 1 %28International%29', 'Link': 'https://www.shl.com/solutions/products/product-catalog/view/industrial-semi-skilled-7-1-%28international%29/', 'Remote Testing Support': 'Yes', 'Adaptive/IRT Support': 'No'}, {'Assessment Name': 'Industrial Professional and Skilled 7.1 (Americas)', 'Clean Name': 'Industrial Professional And Skilled 7 1 %28Americas%29', 'Link': 'https://www.shl.com/solutions/products/product-catalog/view/industrial-professional-and-skilled-7-1-%28americas%29/', 'Remote Testing Support': 'Yes', 'Adaptive/IRT Support': 'No'}, {'Assessment Name': 'Industrial Professional and Skilled 7.1 Solution', 'Clean Name': 'Industrial Professional And Skilled 7 1 Solution', 'Link': 'https://www.shl.com/solutions/products/product-catalog/view/industrial-professional-and-skilled-7-1-solution/', 'Remote Testing Support': 'Yes', 'Adaptive/IRT Support': 'No'}, {'Assessment Name': 'Healthcare Support Specialist Solution', 'Clean Name': 'Healthcare Support Specialist Solution', 'Link': 'https://www.shl.com/solutions/products/product-catalog/view/healthcare-support-specialist-solution/', 'Remote Testing Support': 'Yes', 'Adaptive/IRT Support': 'Yes'}, {'Assessment Name': 'Home Health Aide Solution', 'Clean Name': 'Home Health Aide Solution', 'Link': 'https://www.shl.com/solutions/products/product-catalog/view/home-health-aide-solution/', 'Remote Testing Support': 'Yes', 'Adaptive/IRT Support': 'Yes'}, {'Assessment Name': 'Hospitality Manager Solution', 'Clean Name': 'Hospitality Manager Solution', 'Link': 'https://www.shl.com/solutions/products/product-catalog/view/hospitality-manager-solution/', 'Remote Testing Support': 'Yes', 'Adaptive/IRT Support': 'Yes'}, {'Assessment Name': 'Host Solution', 'Clean Name': 'Host Solution', 'Link': 'https://www.shl.com/solutions/products/product-catalog/view/host-solution/', 'Remote Testing Support': 'Yes', 'Adaptive/IRT Support': 'Yes'}, {'Assessment Name': 'Industrial - Entry Level 7.0 Solution', 'Clean Name': 'Industrial Entry Level 7 0 Solution', 'Link': 'https://www.shl.com/solutions/products/product-catalog/view/industrial-entry-level-7-0-solution/', 'Remote Testing Support': 'Yes', 'Adaptive/IRT Support': 'No'}, {'Assessment Name': 'Industrial - Entry Level 7.1 (Americas)', 'Clean Name': 'Industrial Entry Level 7 1 %28Americas%29', 'Link': 'https://www.shl.com/solutions/products/product-catalog/view/industrial-entry-level-7-1-%28americas%29/', 'Remote Testing Support': 'Yes', 'Adaptive/IRT Support': 'No'}, {'Assessment Name': 'Industrial - Entry Level 7.1 (International)', 'Clean Name': 'Industrial Entry Level 7 1 %28International%29', 'Link': 'https://www.shl.com/solutions/products/product-catalog/view/industrial-entry-level-7-1-%28international%29/', 'Remote Testing Support': 'Yes', 'Adaptive/IRT Support': 'No'}, {'Assessment Name': 'Industrial - Professional and Skilled 7.0 Solution', 'Clean Name': 'Industrial Professional And Skilled 7 0 Solution', 'Link': 'https://www.shl.com/solutions/products/product-catalog/view/industrial-professional-and-skilled-7-0-solution/', 'Remote Testing Support': 'Yes', 'Adaptive/IRT Support': 'Yes'}, {'Assessment Name': 'Industrial - Semi-skilled 7.1 (Americas)', 'Clean Name': 'Industrial Semi Skilled 7 1 %28Americas%29', 'Link': 'https://www.shl.com/solutions/products/product-catalog/view/industrial-semi-skilled-7-1-%28americas%29/', 'Remote Testing Support': 'Yes', 'Adaptive/IRT Support': 'No'}, {'Assessment Name': 'Industrial - Semi-skilled 7.1 (International)', 'Clean Name': 'Industrial Semi Skilled 7 1 %28International%29', 'Link': 'https://www.shl.com/solutions/products/product-catalog/view/industrial-semi-skilled-7-1-%28international%29/', 'Remote Testing Support': 'Yes', 'Adaptive/IRT Support': 'No'}, {'Assessment Name': 'Industrial Professional and Skilled 7.1 (Americas)', 'Clean Name': 'Industrial Professional And Skilled 7 1 %28Americas%29', 'Link': 'https://www.shl.com/solutions/products/product-catalog/view/industrial-professional-and-skilled-7-1-%28americas%29/', 'Remote Testing Support': 'Yes', 'Adaptive/IRT Support': 'No'}, {'Assessment Name': 'Industrial Professional and Skilled 7.1 Solution', 'Clean Name': 'Industrial Professional And Skilled 7 1 Solution', 'Link': 'https://www.shl.com/solutions/products/product-catalog/view/industrial-professional-and-skilled-7-1-solution/', 'Remote Testing Support': 'Yes', 'Adaptive/IRT Support': 'No'}, {'Assessment Name': 'Healthcare Support Specialist Solution', 'Clean Name': 'Healthcare Support Specialist Solution', 'Link': 'https://www.shl.com/solutions/products/product-catalog/view/healthcare-support-specialist-solution/', 'Remote Testing Support': 'Yes', 'Adaptive/IRT Support': 'Yes'}, {'Assessment Name': 'Home Health Aide Solution', 'Clean Name': 'Home Health Aide Solution', 'Link': 'https://www.shl.com/solutions/products/product-catalog/view/home-health-aide-solution/', 'Remote Testing Support': 'Yes', 'Adaptive/IRT Support': 'Yes'}, {'Assessment Name': 'Hospitality Manager Solution', 'Clean Name': 'Hospitality Manager Solution', 'Link': 'https://www.shl.com/solutions/products/product-catalog/view/hospitality-manager-solution/', 'Remote Testing Support': 'Yes', 'Adaptive/IRT Support': 'Yes'}, {'Assessment Name': 'Host Solution', 'Clean Name': 'Host Solution', 'Link': 'https://www.shl.com/solutions/products/product-catalog/view/host-solution/', 'Remote Testing Support': 'Yes', 'Adaptive/IRT Support': 'Yes'}, {'Assessment Name': 'Industrial - Entry Level 7.0 Solution', 'Clean Name': 'Industrial Entry Level 7 0 Solution', 'Link': 'https://www.shl.com/solutions/products/product-catalog/view/industrial-entry-level-7-0-solution/', 'Remote Testing Support': 'Yes', 'Adaptive/IRT Support': 'No'}, {'Assessment Name': 'Industrial - Entry Level 7.1 (Americas)', 'Clean Name': 'Industrial Entry Level 7 1 %28Americas%29', 'Link': 'https://www.shl.com/solutions/products/product-catalog/view/industrial-entry-level-7-1-%28americas%29/', 'Remote Testing Support': 'Yes', 'Adaptive/IRT Support': 'No'}, {'Assessment Name': 'Industrial - Entry Level 7.1 (International)', 'Clean Name': 'Industrial Entry Level 7 1 %28International%29', 'Link': 'https://www.shl.com/solutions/products/product-catalog/view/industrial-entry-level-7-1-%28international%29/', 'Remote Testing Support': 'Yes', 'Adaptive/IRT Support': 'No'}, {'Assessment Name': 'Industrial - Professional and Skilled 7.0 Solution', 'Clean Name': 'Industrial Professional And Skilled 7 0 Solution', 'Link': 'https://www.shl.com/solutions/products/product-catalog/view/industrial-professional-and-skilled-7-0-solution/', 'Remote Testing Support': 'Yes', 'Adaptive/IRT Support': 'Yes'}, {'Assessment Name': 'Industrial - Semi-skilled 7.1 (Americas)', 'Clean Name': 'Industrial Semi Skilled 7 1 %28Americas%29', 'Link': 'https://www.shl.com/solutions/products/product-catalog/view/industrial-semi-skilled-7-1-%28americas%29/', 'Remote Testing Support': 'Yes', 'Adaptive/IRT Support': 'No'}, {'Assessment Name': 'Industrial - Semi-skilled 7.1 (International)', 'Clean Name': 'Industrial Semi Skilled 7 1 %28International%29', 'Link': 'https://www.shl.com/solutions/products/product-catalog/view/industrial-semi-skilled-7-1-%28international%29/', 'Remote Testing Support': 'Yes', 'Adaptive/IRT Support': 'No'}, {'Assessment Name': 'Industrial Professional and Skilled 7.1 (Americas)', 'Clean Name': 'Industrial Professional And Skilled 7 1 %28Americas%29', 'Link': 'https://www.shl.com/solutions/products/product-catalog/view/industrial-professional-and-skilled-7-1-%28americas%29/', 'Remote Testing Support': 'Yes', 'Adaptive/IRT Support': 'No'}, {'Assessment Name': 'Industrial Professional and Skilled 7.1 Solution', 'Clean Name': 'Industrial Professional And Skilled 7 1 Solution', 'Link': 'https://www.shl.com/solutions/products/product-catalog/view/industrial-professional-and-skilled-7-1-solution/', 'Remote Testing Support': 'Yes', 'Adaptive/IRT Support': 'No'}, {'Assessment Name': 'Healthcare Support Specialist Solution', 'Clean Name': 'Healthcare Support Specialist Solution', 'Link': 'https://www.shl.com/solutions/products/product-catalog/view/healthcare-support-specialist-solution/', 'Remote Testing Support': 'Yes', 'Adaptive/IRT Support': 'Yes'}, {'Assessment Name': 'Home Health Aide Solution', 'Clean Name': 'Home Health Aide Solution', 'Link': 'https://www.shl.com/solutions/products/product-catalog/view/home-health-aide-solution/', 'Remote Testing Support': 'Yes', 'Adaptive/IRT Support': 'Yes'}, {'Assessment Name': 'Hospitality Manager Solution', 'Clean Name': 'Hospitality Manager Solution', 'Link': 'https://www.shl.com/solutions/products/product-catalog/view/hospitality-manager-solution/', 'Remote Testing Support': 'Yes', 'Adaptive/IRT Support': 'Yes'}, {'Assessment Name': 'Host Solution', 'Clean Name': 'Host Solution', 'Link': 'https://www.shl.com/solutions/products/product-catalog/view/host-solution/', 'Remote Testing Support': 'Yes', 'Adaptive/IRT Support': 'Yes'}, {'Assessment Name': 'Industrial - Entry Level 7.0 Solution', 'Clean Name': 'Industrial Entry Level 7 0 Solution', 'Link': 'https://www.shl.com/solutions/products/product-catalog/view/industrial-entry-level-7-0-solution/', 'Remote Testing Support': 'Yes', 'Adaptive/IRT Support': 'No'}, {'Assessment Name': 'Industrial - Entry Level 7.1 (Americas)', 'Clean Name': 'Industrial Entry Level 7 1 %28Americas%29', 'Link': 'https://www.shl.com/solutions/products/product-catalog/view/industrial-entry-level-7-1-%28americas%29/', 'Remote Testing Support': 'Yes', 'Adaptive/IRT Support': 'No'}, {'Assessment Name': 'Industrial - Entry Level 7.1 (International)', 'Clean Name': 'Industrial Entry Level 7 1 %28International%29', 'Link': 'https://www.shl.com/solutions/products/product-catalog/view/industrial-entry-level-7-1-%28international%29/', 'Remote Testing Support': 'Yes', 'Adaptive/IRT Support': 'No'}, {'Assessment Name': 'Industrial - Professional and Skilled 7.0 Solution', 'Clean Name': 'Industrial Professional And Skilled 7 0 Solution', 'Link': 'https://www.shl.com/solutions/products/product-catalog/view/industrial-professional-and-skilled-7-0-solution/', 'Remote Testing Support': 'Yes', 'Adaptive/IRT Support': 'Yes'}, {'Assessment Name': 'Industrial - Semi-skilled 7.1 (Americas)', 'Clean Name': 'Industrial Semi Skilled 7 1 %28Americas%29', 'Link': 'https://www.shl.com/solutions/products/product-catalog/view/industrial-semi-skilled-7-1-%28americas%29/', 'Remote Testing Support': 'Yes', 'Adaptive/IRT Support': 'No'}, {'Assessment Name': 'Industrial - Semi-skilled 7.1 (International)', 'Clean Name': 'Industrial Semi Skilled 7 1 %28International%29', 'Link': 'https://www.shl.com/solutions/products/product-catalog/view/industrial-semi-skilled-7-1-%28international%29/', 'Remote Testing Support': 'Yes', 'Adaptive/IRT Support': 'No'}, {'Assessment Name': 'Industrial Professional and Skilled 7.1 (Americas)', 'Clean Name': 'Industrial Professional And Skilled 7 1 %28Americas%29', 'Link': 'https://www.shl.com/solutions/products/product-catalog/view/industrial-professional-and-skilled-7-1-%28americas%29/', 'Remote Testing Support': 'Yes', 'Adaptive/IRT Support': 'No'}, {'Assessment Name': 'Industrial Professional and Skilled 7.1 Solution', 'Clean Name': 'Industrial Professional And Skilled 7 1 Solution', 'Link': 'https://www.shl.com/solutions/products/product-catalog/view/industrial-professional-and-skilled-7-1-solution/', 'Remote Testing Support': 'Yes', 'Adaptive/IRT Support': 'No'}, {'Assessment Name': 'Supervisor - Short Form', 'Clean Name': 'Supervisor Short Form', 'Link': 'https://www.shl.com/solutions/products/product-catalog/view/supervisor-short-form/', 'Remote Testing Support': 'Yes', 'Adaptive/IRT Support': 'Yes'}, {'Assessment Name': 'Supervisor 7.0 Solution', 'Clean Name': 'Supervisor 7 0 Solution', 'Link': 'https://www.shl.com/solutions/products/product-catalog/view/supervisor-7-0-solution/', 'Remote Testing Support': 'Yes', 'Adaptive/IRT Support': 'No'}, {'Assessment Name': 'Supervisor 7.1 (Americas)', 'Clean Name': 'Supervisor 7 1 %28Americas%29', 'Link': 'https://www.shl.com/solutions/products/product-catalog/view/supervisor-7-1-%28americas%29/', 'Remote Testing Support': 'Yes', 'Adaptive/IRT Support': 'No'}, {'Assessment Name': 'Supervisor 7.1 (International)', 'Clean Name': 'Supervisor 7 1 %28International%29', 'Link': 'https://www.shl.com/solutions/products/product-catalog/view/supervisor-7-1-%28international%29/', 'Remote Testing Support': 'Yes', 'Adaptive/IRT Support': 'No'}, {'Assessment Name': 'Support Associate Solution', 'Clean Name': 'Support Associate Solution', 'Link': 'https://www.shl.com/solutions/products/product-catalog/view/support-associate-solution/', 'Remote Testing Support': 'Yes', 'Adaptive/IRT Support': 'Yes'}, {'Assessment Name': 'Support Supervisor Solution', 'Clean Name': 'Support Supervisor Solution', 'Link': 'https://www.shl.com/solutions/products/product-catalog/view/support-supervisor-solution/', 'Remote Testing Support': 'Yes', 'Adaptive/IRT Support': 'Yes'}, {'Assessment Name': 'Technical Sales Associate Solution', 'Clean Name': 'Technical Sales Associate Solution', 'Link': 'https://www.shl.com/solutions/products/product-catalog/view/technical-sales-associate-solution/', 'Remote Testing Support': 'Yes', 'Adaptive/IRT Support': 'No'}, {'Assessment Name': 'Technician/Technologist Solution', 'Clean Name': 'Techniciantechnologist Solution', 'Link': 'https://www.shl.com/solutions/products/product-catalog/view/techniciantechnologist-solution/', 'Remote Testing Support': 'Yes', 'Adaptive/IRT Support': 'Yes'}, {'Assessment Name': 'Technology Professional 8.0 Job Focused Assessment', 'Clean Name': 'Technology Professional 8 0 Job Focused Assessment', 'Link': 'https://www.shl.com/solutions/products/product-catalog/view/technology-professional-8-0-job-focused-assessment/', 'Remote Testing Support': 'Yes', 'Adaptive/IRT Support': 'No'}, {'Assessment Name': 'Telenurse Solution', 'Clean Name': 'Telenurse Solution', 'Link': 'https://www.shl.com/solutions/products/product-catalog/view/telenurse-solution/', 'Remote Testing Support': 'Yes', 'Adaptive/IRT Support': 'Yes'}, {'Assessment Name': 'Teller 7.0', 'Clean Name': 'Teller 7 0', 'Link': 'https://www.shl.com/solutions/products/product-catalog/view/teller-7-0/', 'Remote Testing Support': 'Yes', 'Adaptive/IRT Support': 'Yes'}, {'Assessment Name': 'Teller with Sales - Short Form', 'Clean Name': 'Teller With Sales Short Form', 'Link': 'https://www.shl.com/solutions/products/product-catalog/view/teller-with-sales-short-form/', 'Remote Testing Support': 'Yes', 'Adaptive/IRT Support': 'No'}, {'Assessment Name': 'Teller 7.0', 'Clean Name': 'Teller 7 0', 'Link': 'https://www.shl.com/solutions/products/product-catalog/view/teller-7-0/', 'Remote Testing Support': 'Yes', 'Adaptive/IRT Support': 'Yes'}, {'Assessment Name': 'Teller with Sales - Short Form', 'Clean Name': 'Teller With Sales Short Form', 'Link': 'https://www.shl.com/solutions/products/product-catalog/view/teller-with-sales-short-form/', 'Remote Testing Support': 'Yes', 'Adaptive/IRT Support': 'No'}, {'Assessment Name': 'Transcriptionist Solution', 'Clean Name': 'Transcriptionist Solution', 'Link': 'https://www.shl.com/solutions/products/product-catalog/view/transcriptionist-solution/', 'Remote Testing Support': 'Yes', 'Adaptive/IRT Support': 'Yes'}, {'Assessment Name': 'Workplace Safety - Individual 7.0 Solution', 'Clean Name': 'Workplace Safety Individual 7 0 Solution', 'Link': 'https://www.shl.com/solutions/products/product-catalog/view/workplace-safety-individual-7-0-solution/', 'Remote Testing Support': 'Yes', 'Adaptive/IRT Support': 'No'}, {'Assessment Name': 'Workplace Safety - Individual 7.1 (Americas)', 'Clean Name': 'Workplace Safety Individual 7 1 Solution', 'Link': 'https://www.shl.com/solutions/products/product-catalog/view/workplace-safety-individual-7-1-solution/', 'Remote Testing Support': 'Yes', 'Adaptive/IRT Support': 'No'}, {'Assessment Name': 'Workplace Safety - Team 7.0 Solution', 'Clean Name': 'Workplace Safety Team 7 0 Solution', 'Link': 'https://www.shl.com/solutions/products/product-catalog/view/workplace-safety-team-7-0-solution/', 'Remote Testing Support': 'Yes', 'Adaptive/IRT Support': 'No'}, {'Assessment Name': 'Workplace Safety - Team 7.1 (Americas)', 'Clean Name': 'Workplace Safety Team 7 1 %28Americas%29', 'Link': 'https://www.shl.com/solutions/products/product-catalog/view/workplace-safety-team-7-1-%28americas%29/', 'Remote Testing Support': 'Yes', 'Adaptive/IRT Support': 'No'}, {'Assessment Name': 'Workplace Safety - Team 7.1 (International)', 'Clean Name': 'Workplace Safety Team 7 1 Solution', 'Link': 'https://www.shl.com/solutions/products/product-catalog/view/workplace-safety-team-7-1-solution/', 'Remote Testing Support': 'Yes', 'Adaptive/IRT Support': 'No'}, {'Assessment Name': 'Workplace Safety Solution', 'Clean Name': 'Workplace Safety Solution', 'Link': 'https://www.shl.com/solutions/products/product-catalog/view/workplace-safety-solution/', 'Remote Testing Support': 'Yes', 'Adaptive/IRT Support': 'Yes'}, {'Assessment Name': 'Teller 7.0', 'Clean Name': 'Teller 7 0', 'Link': 'https://www.shl.com/solutions/products/product-catalog/view/teller-7-0/', 'Remote Testing Support': 'Yes', 'Adaptive/IRT Support': 'Yes'}, {'Assessment Name': 'Teller with Sales - Short Form', 'Clean Name': 'Teller With Sales Short Form', 'Link': 'https://www.shl.com/solutions/products/product-catalog/view/teller-with-sales-short-form/', 'Remote Testing Support': 'Yes', 'Adaptive/IRT Support': 'No'}, {'Assessment Name': 'Transcriptionist Solution', 'Clean Name': 'Transcriptionist Solution', 'Link': 'https://www.shl.com/solutions/products/product-catalog/view/transcriptionist-solution/', 'Remote Testing Support': 'Yes', 'Adaptive/IRT Support': 'Yes'}, {'Assessment Name': 'Workplace Safety - Individual 7.0 Solution', 'Clean Name': 'Workplace Safety Individual 7 0 Solution', 'Link': 'https://www.shl.com/solutions/products/product-catalog/view/workplace-safety-individual-7-0-solution/', 'Remote Testing Support': 'Yes', 'Adaptive/IRT Support': 'No'}, {'Assessment Name': 'Workplace Safety - Individual 7.1 (Americas)', 'Clean Name': 'Workplace Safety Individual 7 1 Solution', 'Link': 'https://www.shl.com/solutions/products/product-catalog/view/workplace-safety-individual-7-1-solution/', 'Remote Testing Support': 'Yes', 'Adaptive/IRT Support': 'No'}, {'Assessment Name': 'Workplace Safety - Team 7.0 Solution', 'Clean Name': 'Workplace Safety Team 7 0 Solution', 'Link': 'https://www.shl.com/solutions/products/product-catalog/view/workplace-safety-team-7-0-solution/', 'Remote Testing Support': 'Yes', 'Adaptive/IRT Support': 'No'}, {'Assessment Name': 'Workplace Safety - Team 7.1 (Americas)', 'Clean Name': 'Workplace Safety Team 7 1 %28Americas%29', 'Link': 'https://www.shl.com/solutions/products/product-catalog/view/workplace-safety-team-7-1-%28americas%29/', 'Remote Testing Support': 'Yes', 'Adaptive/IRT Support': 'No'}, {'Assessment Name': 'Workplace Safety - Team 7.1 (International)', 'Clean Name': 'Workplace Safety Team 7 1 Solution', 'Link': 'https://www.shl.com/solutions/products/product-catalog/view/workplace-safety-team-7-1-solution/', 'Remote Testing Support': 'Yes', 'Adaptive/IRT Support': 'No'}, {'Assessment Name': 'Workplace Safety Solution', 'Clean Name': 'Workplace Safety Solution', 'Link': 'https://www.shl.com/solutions/products/product-catalog/view/workplace-safety-solution/', 'Remote Testing Support': 'Yes', 'Adaptive/IRT Support': 'Yes'}, {'Assessment Name': 'Account Manager Solution', 'Clean Name': 'Account Manager Solution', 'Link': 'https://www.shl.com/solutions/products/product-catalog/view/account-manager-solution/', 'Remote Testing Support': 'Yes', 'Adaptive/IRT Support': 'Yes'}, {'Assessment Name': 'Administrative Professional - Short Form', 'Clean Name': 'Administrative Professional Short Form', 'Link': 'https://www.shl.com/solutions/products/product-catalog/view/administrative-professional-short-form/', 'Remote Testing Support': 'Yes', 'Adaptive/IRT Support': 'Yes'}, {'Assessment Name': 'Agency Manager Solution', 'Clean Name': 'Agency Manager Solution', 'Link': 'https://www.shl.com/solutions/products/product-catalog/view/agency-manager-solution/', 'Remote Testing Support': 'Yes', 'Adaptive/IRT Support': 'Yes'}, {'Assessment Name': 'Apprentice + 8.0 Job Focused Assessment', 'Clean Name': 'Apprentice 8 0 Job Focused Assessment 4261', 'Link': 'https://www.shl.com/solutions/products/product-catalog/view/apprentice-8-0-job-focused-assessment-4261/', 'Remote Testing Support': 'Yes', 'Adaptive/IRT Support': 'No'}, {'Assessment Name': 'Apprentice 8.0 Job Focused Assessment', 'Clean Name': 'Apprentice 8 0 Job Focused Assessment', 'Link': 'https://www.shl.com/solutions/products/product-catalog/view/apprentice-8-0-job-focused-assessment/', 'Remote Testing Support': 'Yes', 'Adaptive/IRT Support': 'No'}, {'Assessment Name': 'Bank Administrative Assistant - Short Form', 'Clean Name': 'Bank Administrative Assistant Short Form', 'Link': 'https://www.shl.com/solutions/products/product-catalog/view/bank-administrative-assistant-short-form/', 'Remote Testing Support': 'Yes', 'Adaptive/IRT Support': 'No'}, {'Assessment Name': 'Bank Collections Agent - Short Form', 'Clean Name': 'Bank Collections Agent Short Form', 'Link': 'https://www.shl.com/solutions/products/product-catalog/view/bank-collections-agent-short-form/', 'Remote Testing Support': 'Yes', 'Adaptive/IRT Support': 'No'}, {'Assessment Name': 'Bank Operations Supervisor - Short Form', 'Clean Name': 'Bank Operations Supervisor Short Form', 'Link': 'https://www.shl.com/solutions/products/product-catalog/view/bank-operations-supervisor-short-form/', 'Remote Testing Support': 'Yes', 'Adaptive/IRT Support': 'Yes'}, {'Assessment Name': 'Bilingual Spanish Reservation Agent Solution', 'Clean Name': 'Bilingual Spanish Reservation Agent Solution', 'Link': 'https://www.shl.com/solutions/products/product-catalog/view/bilingual-spanish-reservation-agent-solution/', 'Remote Testing Support': 'Yes', 'Adaptive/IRT Support': 'Yes'}, {'Assessment Name': 'Bookkeeping, Accounting, Auditing Clerk Short Form', 'Clean Name': 'Bookkeeping Accounting Auditing Clerk Short Form', 'Link': 'https://www.shl.com/solutions/products/product-catalog/view/bookkeeping-accounting-auditing-clerk-short-form/', 'Remote Testing Support': 'Yes', 'Adaptive/IRT Support': 'Yes'}, {'Assessment Name': 'Branch Manager - Short Form', 'Clean Name': 'Branch Manager Short Form', 'Link': 'https://www.shl.com/solutions/products/product-catalog/view/branch-manager-short-form/', 'Remote Testing Support': 'Yes', 'Adaptive/IRT Support': 'No'}, {'Assessment Name': 'Cashier Solution', 'Clean Name': 'Cashier Solution', 'Link': 'https://www.shl.com/solutions/products/product-catalog/view/cashier-solution/', 'Remote Testing Support': 'Yes', 'Adaptive/IRT Support': 'Yes'}]\n"
          ]
        }
      ]
    },
    {
      "cell_type": "code",
      "source": [
        "from tqdm import tqdm  # Optional: for progress bar\n",
        "import time\n",
        "\n",
        "for assessment in tqdm(assessment_data):\n",
        "    try:\n",
        "        r = requests.get(assessment[\"Link\"], timeout=10)\n",
        "        soup = BeautifulSoup(r.content, \"lxml\")\n",
        "\n",
        "        # Initialize attributes\n",
        "        duration = \"\"\n",
        "        test_types = []\n",
        "        job_levels = \"\"\n",
        "        languages = \"\"\n",
        "\n",
        "        # Assessment Length and Test Type\n",
        "        duration_section = soup.find(\"h4\", string=\"Assessment length\")\n",
        "        if duration_section:\n",
        "            container = duration_section.find_parent(\"div\")\n",
        "            if container:\n",
        "                # Duration\n",
        "                p_tag = container.find(\"p\")\n",
        "                if p_tag and \"Completion Time\" in p_tag.text:\n",
        "                    duration = p_tag.text.strip().split(\"=\")[-1].strip()\n",
        "\n",
        "                # Test Types\n",
        "                span_tags = container.find_all(\"span\", class_=\"product-catalogue__key\")\n",
        "                test_types = [s.text.strip() for s in span_tags]\n",
        "\n",
        "        # Job Levels\n",
        "        job_section = soup.find(\"h4\", string=\"Job levels\")\n",
        "        if job_section:\n",
        "            container = job_section.find_parent(\"div\")\n",
        "            if container:\n",
        "                job_p = container.find(\"p\")\n",
        "                if job_p:\n",
        "                    job_levels = job_p.text.strip().rstrip(\",\")\n",
        "\n",
        "        # Languages\n",
        "        lang_section = soup.find(\"h4\", string=\"Languages\")\n",
        "        if lang_section:\n",
        "            container = lang_section.find_parent(\"div\")\n",
        "            if container:\n",
        "                lang_p = container.find(\"p\")\n",
        "                if lang_p:\n",
        "                    languages = lang_p.text.strip().rstrip(\",\")\n",
        "\n",
        "        # Description\n",
        "        description = \"\"\n",
        "        desc_section = soup.find(\"h4\", string=\"Description\")\n",
        "        if desc_section:\n",
        "            container = desc_section.find_parent(\"div\")\n",
        "            if container:\n",
        "                desc_p = container.find(\"p\")\n",
        "                if desc_p:\n",
        "                    description = desc_p.text.strip()\n",
        "\n",
        "        # Add to dictionary\n",
        "        assessment[\"Assessment Length\"] = duration\n",
        "        assessment[\"Test Type\"] = \", \".join(test_types)\n",
        "        assessment[\"Job Level\"] = job_levels\n",
        "        assessment[\"Languages\"] = languages\n",
        "        assessment[\"Description\"] = description\n",
        "\n",
        "\n",
        "        time.sleep(0.3)  # Be polite to server\n",
        "    except Exception as e:\n",
        "        print(f\"Error at {assessment['Link']}: {e}\")\n",
        "        assessment[\"Assessment Length\"] = \"\"\n",
        "        assessment[\"Test Type\"] = \"\"\n",
        "        assessment[\"Job Level\"] = \"\"\n",
        "        assessment[\"Languages\"] = \"\"\n",
        "\n",
        "\n",
        "\n",
        "# Save again\n",
        "df = pd.DataFrame(assessment_data)\n",
        "df.to_csv(\"shl_assessments_full_data.csv\", index=False)\n",
        "print(\"Done! Data saved to 'shl_assessments_full_data.csv'\")\n"
      ],
      "metadata": {
        "colab": {
          "base_uri": "https://localhost:8080/"
        },
        "id": "QAZZnt7m6AzP",
        "outputId": "2551f96d-09f1-4e27-9162-43951c0b3106"
      },
      "execution_count": null,
      "outputs": [
        {
          "output_type": "stream",
          "name": "stderr",
          "text": [
            "100%|██████████| 186/186 [04:07<00:00,  1.33s/it]"
          ]
        },
        {
          "output_type": "stream",
          "name": "stdout",
          "text": [
            "Done! Data saved to 'shl_assessments_full_data.csv'\n"
          ]
        },
        {
          "output_type": "stream",
          "name": "stderr",
          "text": [
            "\n"
          ]
        }
      ]
    },
    {
      "cell_type": "code",
      "source": [],
      "metadata": {
        "id": "AdUFzS0A-peE"
      },
      "execution_count": null,
      "outputs": []
    }
  ]
}